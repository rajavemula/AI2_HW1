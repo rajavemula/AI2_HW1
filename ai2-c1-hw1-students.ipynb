{
    "cells": [
        {
            "attachments": {},
            "cell_type": "markdown",
            "metadata": {},
            "source": [
                "![](fig/univ.png)\n",
                "\n",
                "# AI-2: Convolutional Neural Network\n",
                "## Homework 1: Artificial Neural Networks, Model Interpretation, and Regularization\n",
                "\n",
                "**AI2 Cohort 5**<br/>\n",
                "**Univ.AI**<br/>\n",
                "**Instructors**:Dr. Pavlos Protopapas<br />\n",
                "**Maximum Score**: 95 (+ 5 BONUS)\n",
                "\n",
                "<hr style=\"height:2.4pt\">"
            ]
        },
        {
            "cell_type": "code",
            "execution_count": 1,
            "metadata": {
                "scrolled": true
            },
            "outputs": [],
            "source": [
                "#RUN THIS CELL \n",
                "import requests\n",
                "from IPython.core.display import HTML"
            ]
        },
        {
            "cell_type": "code",
            "execution_count": 2,
            "metadata": {
                "collapsed": true
            },
            "outputs": [],
            "source": [
                "import random\n",
                "random.seed(112358)\n",
                "\n",
                "import os\n",
                "import sys\n",
                "\n",
                "import matplotlib.pyplot as plt\n",
                "import numpy as np\n",
                "import pandas as pd\n",
                "import seaborn as sns\n",
                "\n",
                "from sklearn.inspection import permutation_importance\n",
                "from sklearn.linear_model import LogisticRegression\n",
                "from sklearn.metrics import roc_auc_score, accuracy_score\n",
                "from sklearn.model_selection import train_test_split\n",
                "from sklearn.preprocessing import StandardScaler\n",
                "from sklearn.utils import resample\n",
                "\n",
                "# TensorFlow and tf.keras\n",
                "import tensorflow as tf\n",
                "\n",
                "%matplotlib inline"
            ]
        },
        {
            "attachments": {},
            "cell_type": "markdown",
            "metadata": {},
            "source": [
                "### INSTRUCTIONS\n",
                "\n",
                "\n",
                "- This homework is a jupyter notebook. Download and work on it on your local machine.\n",
                "\n",
                "- This homework should be submitted in pairs.\n",
                "\n",
                "- Homework should be submitted by only one student in a team of two. If both teammates submit, scores will be penalized.\n",
                "\n",
                "- Please restart the kernel and run the entire notebook again before you submit.\n",
                "\n",
                "- Running cells out of order is a common pitfall in Jupyter Notebooks. To make sure your code works restart the kernel and run the whole notebook again before you submit. \n",
                "\n",
                "- If you decide to submit a colab notebook, ensure you have given **complete edit access** to the staff while submitting. Also add any data that requires reviewing on google drive and submit the link.\n",
                "\n",
                "\n",
                "- To submit the homework, either one of you upload the working notebook on edStem and click the submit button on the bottom right corner.\n",
                "\n",
                "- Submit the homework well before the given deadline. Submissions after the deadline will not be graded.\n",
                "\n",
                "- We have tried to include all the libraries you may need to do the assignment in the imports statement at the top of this notebook. We strongly suggest that you use those and not others as we may not be familiar with them.\n",
                "\n",
                "- Comment your code well. This would help the graders in case there is any issue with the notebook while running. It is important to remember that the graders will not troubleshoot your code. \n",
                "\n",
                "- Please use .head() when viewing data. Do not submit a notebook that is **excessively long**. \n",
                "\n",
                "- In questions that require code to answer, such as \"calculate the $R^2$\", do not just output the value from a cell. Write a `print()` function that includes a reference to the calculated value, **not hardcoded**. For example: \n",
                "```\n",
                "print(f'The R^2 is {R:.4f}')\n",
                "```\n",
                "- Your plots should include clear labels for the $x$ and $y$ axes as well as a descriptive title (\"MSE plot\" is not a descriptive title; \"95 % confidence interval of coefficients of polynomial degree 5\" is).\n",
                "\n",
                "- **Ensure you make appropraite plots for all the questions it is applicable to, regardless of it being explicitly asked for.**\n",
                "\n",
                "- **IMPORTANT** : Do a final \"RUN\" and make sure your **outputs** are all visible for **each cell** at the time of submission. We will not be able to grade any cells without outputs.\n",
                "\n",
                "<span style=\"color:red\"> \n",
                "\n",
                "**IMPORTANT** \n",
                "\n",
                "- Plagiarism of code/blocks of text is not acceptable for any Univ.AI submissions.\n",
                "- You are allowed to refer to a publicly available source of information for a SMALL chunk of code  provided you cite it clearly. \n",
                "- Copying the code blatantly without attribution is not permitted in any case. \n",
                "- Sharing code between homework teams is strictly not allowed. In case of any confusion, you are advised to ask the staff on the Ed forum rather than assume the course of action needed.\n",
                "- If caught plagiarizing, you risk expulsion from the program.\n",
                "</span>\n",
                "\n",
                "<hr style=\"height:2pt\">"
            ]
        },
        {
            "attachments": {},
            "cell_type": "markdown",
            "metadata": {},
            "source": [
                "### Names of the people who worked on this homework together\n",
                "#### Hari Krishna"
            ]
        },
        {
            "attachments": {},
            "cell_type": "markdown",
            "metadata": {},
            "source": [
                "<a id=\"contents\"></a>\n",
                "\n",
                "## Notebook Contents\n",
                "\n",
                "- [**PART 1 [40 pts]: Model interpretation and predictive intervals in NN**](#part1)\n",
                "  - [Overview and Data Description](#part1intro)\n",
                "  - [Questions](#part1questions)\n",
                "  - [Solutions](#part1solutions)\n",
                "\n",
                "\n",
                "- [**PART 2.1 [30 pts]: Kannada MNIST Kaggle competition using ANNs**](#part2.1)\n",
                "  - [Problem Statement](#part2.1intro)\n",
                "  - [The Kannada MNIST Dataset](#part2.1about)\n",
                "  - [Downloading the Data Files](#part2.1data)\n",
                "  - [AI2-C2 Homework Kaggle Competition](#part2.1kaggle)\n",
                "  - [Questions](#part2.1questions)\n",
                "  - [Solutions](#part2.1solutions)\n",
                "\n",
                "- [**PART 2.2 [30 pts]: Kannada MNIST using CNNs**](#part2)\n",
                "  - [Questions](#part2.2questions)\n",
                "  - [Solutions](#part2.2solutions)\n"
            ]
        },
        {
            "attachments": {},
            "cell_type": "markdown",
            "metadata": {},
            "source": [
                "---"
            ]
        },
        {
            "attachments": {},
            "cell_type": "markdown",
            "metadata": {},
            "source": [
                "<div class=\"alert alert-block alert-danger\" style=\"color:black;background-color:#E7F4FA\">\n",
                "<h1> PART 1 [40 pts]: Model interpretation and predictive intervals in NN </h1> \n",
                "\n",
                "<a id=\"part1intro\"></a>\n",
                "\n",
                "<b> Overview and Data Description </b>\n",
                "\n",
                "In this problem, you will be building and interpreting models to predict whether a flight was delayed for its arrival based on features that could be measured as the flight takes off.  \n",
                "We will also estimate the predictive intervals of the model using bootstrapping. We will utilize those predictive intervals to build a new kind of model: a model that refrains from making a prediction when it is not confident.  \n",
                "\n",
                "The included variables are:\n",
                "\n",
                "**ARRIVAL_DELAY**: the difference between scheduled arrival and actual arrival, in minutes (positive is late, negative is early).\n",
                "\n",
                "**DISTANCE**: the distance between arrival and departure airports, in miles.\n",
                "\n",
                "**SCHEDULED_TIME**: the flight's scheduled travel time.\n",
                "\n",
                "**MONTH**: the month the flight took off, 1 = January, 2 = February, etc.\n",
                "\n",
                "**SCHED_DEP_HOUR**: the scheduled departure time (the hour of the day).\n",
                "\n",
                "**SCHED_ARR_HOUR**: the scheduled arrival time (the hour of the day).\n",
                "\n",
                "**FLIGHT_COUNT**: the number of flights flying out of that airport before noon on a typical day.\n",
                "\n",
                "**DAY_OF_WEEK**: the day of the week, 1 = Monday, 2 = Tuesday, etc.\n",
                "\n",
                "**ORIGIN_AIRPORT**: the airport the flight took off from.\n",
                "\n",
                "**DESTINATION_AIRPORT**: the airport the flight was scheduled to land at.\n",
                "\n",
                "For the airport codes, see: https://www.bts.gov/topics/airlines-and-airports/world-airport-codes\n",
                "\n",
                "To sucessfully complete this part, you will proceed by fitting a NN model, evaluating its accuracy, interpreting the predictors' importance, and finally evaluating the predictive intervals.\n",
                "\n",
                "**NOTE:** The observations were sampled so that roughly half of the observations were delayed and half of the observations were not delayed.\n",
                "\n",
                "</div> "
            ]
        },
        {
            "attachments": {},
            "cell_type": "markdown",
            "metadata": {},
            "source": [
                "<div class=\"alert alert-block alert-danger\" style=\"color:black;background-color:#E7F4FA\">\n",
                "\n",
                "\n",
                "<h2>PART 1: Questions</h2> \n",
                "\n",
                "[Return to contents](#contents)\n",
                "\n",
                "**1.1.1 [2 points]**  Read in the dataset `flights.csv`. Create a variable `DELAY_OR_NOT` that denotes whether `ARRIVAL_DELAY` is greater than or equal to 15 minutes (the FAA and BTS define a flight as delayed only if it arrives 15 minutes late or more). This is going to be the response variable for the rest of this question. \n",
                "\n",
                "Hint : Remember to drop the `ARRIVAL_DELAY` column.\n",
                "\n",
                "**1.1.2 [2 points]** Preprocess the data: one-hot-encode the non-numeric categorical variables and split the data into training and test sets (use an 80/20 split with `random_state=111`). Remember to scale your data and deal with missing values should you find any. Print the resulting shapes of your $X$ and $y$ dataframes for both your train and your test sets.\n",
                "\n",
                "**HINT**: When do you think you should scale the data? before or after splitting it?\n",
                "\n",
                "**1.2 [2 points]** Fit an artificial neural network model using all predictors (name this model `NN_model`).  Use a dense feed-forward network with two hidden layers with 15 nodes in each hidden layer. For this network, use appropriate activation functions for each layer, select an appropriate loss function and optimizer, specify a validation split of 0.2, train for an appropriate number of epochs based on the results of your training and validation accuracy plot, and feel free to use the default batch size while training. Plot the training accuracy and validation accuracy as a function of epochs from your `NN_model` training history. Evaluate the `NN_model` model on both train and test, and print out the resulting train and test accuracies.\n",
                "\n",
                "**1.3 [10 points]** To begin our interpretation of the resulting `NN_model`, we will first use a \"proxy model\" that we know how to interpret and train it on our `NN_model` training predictions.\n",
                "\n",
                "- **1.3.1** For this we need to modify our training set. First, generate a set of `NN_model` class predictions for the training set. These training predictions will be used to form a revised training dataset for our proxy model: (a) use all of the same $X$ values used by `NN_model` for our $X$ train and (b) replace the actual response values $y$ with the predicted $\\hat{y}$ values generated by the fitted `NN_model`.\n",
                "\n",
                "- **1.3.2** Next, fit a logistic regression model using your revised training dataset from 1.3.1 (name this model `logreg`). Use ridge-like regularization. Print the `logreg` test accuracy to confirm that it is similar to what we saw for our `NN_model` test accuracy in 1.2. You may need to adjust `C` in order to achieve a similar accuracy.\n",
                "\n",
                "- **1.3.3** Now use sklearn's `permutation_importance` class (already included in this notebook's imports) to compute the feature importance using the `logreg` model.\n",
                "\n",
                "  - Read the official documentation for `permutation_importance` [here](https://scikit-learn.org/stable/modules/permutation_importance.html#:~:text=The%20permutation%20feature%20importance%20is,model%20depends%20on%20the%20feature.) as well as [here](https://scikit-learn.org/stable/modules/generated/sklearn.inspection.permutation_importance.html#sklearn.inspection.permutation_importance) to learn how it works.\n",
                "\n",
                "  - You can use the default number of `n_repeats` and your estimator's default `scorer`. To speed up the time it takes to run your permutations, you can try setting `n_jobs=-1` to take full advantage of all of your available processor cores.\n",
                "\n",
                "  - Measure the **relative** variable importance (i.e. as a proportion of the variable importance of the most important variable identified by `permutation_importance`) and generate a barplot illustrating the relative variable importances for the top-10 most important predictors identified using `permutation_importance`.\n",
                "\n",
                "**1.4 [10 points]** Another way to interpret the  `NN_model` is by examining the response as a function of any of the predictors. Particularly, we will select from features often found most significant from the analysis above. **For all 1.4 plots below**, for ease of interpretation, **please be certain to** display all predictors on their original scales. \n",
                "\n",
                "   - **1.4.1** Set all predictors to their means/modes except for `SCHED_DEP_HOUR`. Predict the probability of delay and plot the predicted probabilities of delay vs. `SCHED_DEP_HOUR` on the data from the **training set**. Interpret what you see in 2-4 sentences.\n",
                "   - **1.4.2** Set all predictors to their means/modes except for `SCHED_DEP_HOUR` and `FLIGHT_COUNT`. Predict the probability of delay and plot the predicted probabilities of delay vs. `SCHED_DEP_HOUR` and `FLIGHT_COUNT` from the training set (see the question 1.4 \"HINT\" below).\n",
                "\n",
                "   - **1.4.3**   Set all predictors to their means/modes except for except for `SCHED_DEP_HOUR` and `SCHED_ARR_HOUR`. Predict the probability of delay and plot the predicted probabilities of delay vs. `SCHED_DEP_HOUR` and `SCHED_ARR_HOUR` from the training set.\n",
                "\n",
                "\n",
                "   - **1.4.4** Set all predictors to their means/modes except for except for `SCHED_DEP_HOUR` and `DISTANCE`. Predict the probability of delay and plot the predicted probabilities of delay vs. `SCHED_DEP_HOUR` and `DISTANCE` from the training set. \n",
                "  - **1.4.5** In 5-10 sentences, interpret what you have seen in 1.4.2, 1.4.3, and 1.4.4.\n",
                "  \n",
                "**HINT:** \n",
                "\n",
                ">(A) For 1.4.2, 1.4.3, and 1.4.4, when you include `SCHED_DEP_HOUR` on one axis and your second predictor on the other axis, you can color your datapoints based on their corresponding predicted probabilities by using  the `c` and `cmap` arguments in `plt.scatter`. You can also add a labeled colorbar to your plot to make clear what those colors mean. Please refer to the matplotlib documentation for examples. \n",
                "\n",
                ">(B) You may use the previously trained model from part 1.2 here. \n",
                "    \n",
                "**1.5 [2 points]**\n",
                "    \n",
                "In this part, we will attempt to do model inference. Neural Networks have too many parameters, and therefore inference on all the parameters is intractable and meaningless. \n",
                "\n",
                "Using the same network architecture as `NN_model` (layers, nodes, activations, etc.) and your scaled data from that model, create multiple training sets using bootstrapping and fit a separate neural network model to each bootstrapped set of data (a minimum of at least 50 bootstraps should be used). Predict the output on the test data for each model. Randomly select 8 test observations and on 8 subplots, plot the distribution of predicted probabilities (i.e. $n$ bootstrapped probabilites) with the 95% CI bounds clearly marked and reported in each subplot and the actual class of each observation included in each subplot's title for easy reference.\n",
                "\n",
                "Interpret what you see in 3-5 sentences.\n",
                "\n",
                "    \n",
                "**NOTE:** The code for this problem can take an extremely long time to execute. Please feel free to use the provided `progressbar` function below to visually track the progress of your bootstraps.\n",
                "    \n",
                "**1.6 [12 points]**\n",
                "    \n",
                "Using the probability distribution of the predictions obtained from the bootstrapped samples above, we can evaluate how \"significant\" our bagged (i.e. bootstrap-aggregated) prediction will be for each test observation.\n",
                "\n",
                "To accomplish this, you will first calculate the ratio of bootstrapped probabilities that cross the threshold value of $\\hat{p}=0.5$. Let's call this ratio the **Posterior Prediction Ratio (PPR)**. When a bagged prediction's $PPR=0$, all predictions are compatible (i.e. all bootstrapped probabilities for that test observation are on the same side of $\\hat{p}=0.5$). Likewise, when the $PPR=0.5$, half of the bootstrapped predictions for that test observation are $\\hat{y}=0$, and the other half are $\\hat{y}=1$. After calculating your $PPR$ values for all test observations, you should have $n=2000$ $PPR$ values (i.e. one for each test observation).\n",
                "\n",
                "Next, to get more accurate predictions, we can create an **abstain** model that will abstain from making a prediction for a particular observation if some defined threshold for significance (i.e. maximum $PPR$ value) is not met. (If you'd like to learn more about abstain models, you can read more [here](https://openreview.net/forum?id=rJxF73R9tX).)\n",
                "\n",
                "Let's explore how your resulting test accuracies might change by using your bootstrapped prediction results from question 1.5 for an **abstain bagging model** (i.e. a bootstrap aggregated model where some test observations are simply not predicted based on a given $PPR$ threshold). You can make your abstain model *stricter* by using smaller $PPR$ threshold values.\n",
                "\n",
                "- Print the test accuracy for your **bagging model** predictions from question 1.5 using predictions for all 2,000 of our test observations. \n",
                "\n",
                "- Plot the test accuracies for an **abstain bagging model** using your predictions from question 1.5 as a function of increasing $PPR$ thresholds.\n",
                "\n",
                "- Also, plot the proportion of test observations not abstained (i.e. the proportion of those predicted) for your **abstain bagging model** as a function of increasing $PPR$ thresholds.\n",
                "\n",
                "- Interpret what you see in 3-5 sentences.\n",
                "\n",
                "    \n",
                "**NOTE**: \n",
                ">You should observe that as $PPR$ decreases (more confident predictions), you must also compromise on the number of points that your abstain model predicts confidently. \n",
                ">Range of PPR Thresholds to consider will be 0 to 0.5.\n",
                "\n",
                "</div>"
            ]
        },
        {
            "attachments": {},
            "cell_type": "markdown",
            "metadata": {},
            "source": [
                "<a id=\"part1solutions\"></a>\n",
                "\n",
                "## PART 1: Solutions\n",
                "\n",
                "[Return to contents](#contents)\n"
            ]
        },
        {
            "attachments": {},
            "cell_type": "markdown",
            "metadata": {},
            "source": [
                "<div class='exercise-r'>  \n",
                "\n",
                "**1.1**\n",
                "\n",
                "</div>"
            ]
        },
        {
            "cell_type": "code",
            "execution_count": 71,
            "metadata": {
                "collapsed": true
            },
            "outputs": [],
            "source": [
                "# your code here \n",
                "df = pd.read_csv('data/flights.csv')\n"
            ]
        },
        {
            "cell_type": "code",
            "execution_count": 72,
            "metadata": {},
            "outputs": [
                {
                    "data": {
                        "text/html": [
                            "<div>\n",
                            "<style scoped>\n",
                            "    .dataframe tbody tr th:only-of-type {\n",
                            "        vertical-align: middle;\n",
                            "    }\n",
                            "\n",
                            "    .dataframe tbody tr th {\n",
                            "        vertical-align: top;\n",
                            "    }\n",
                            "\n",
                            "    .dataframe thead th {\n",
                            "        text-align: right;\n",
                            "    }\n",
                            "</style>\n",
                            "<table border=\"1\" class=\"dataframe\">\n",
                            "  <thead>\n",
                            "    <tr style=\"text-align: right;\">\n",
                            "      <th></th>\n",
                            "      <th>ARRIVAL_DELAY</th>\n",
                            "      <th>DISTANCE</th>\n",
                            "      <th>SCHEDULED_TIME</th>\n",
                            "      <th>MONTH</th>\n",
                            "      <th>SCHED_DEP_HOUR</th>\n",
                            "      <th>SCHED_ARR_HOUR</th>\n",
                            "      <th>FLIGHT_COUNT</th>\n",
                            "      <th>DAY_OF_WEEK</th>\n",
                            "      <th>ORIGIN_AIRPORT</th>\n",
                            "      <th>DESTINATION_AIRPORT</th>\n",
                            "    </tr>\n",
                            "  </thead>\n",
                            "  <tbody>\n",
                            "    <tr>\n",
                            "      <th>0</th>\n",
                            "      <td>23.0</td>\n",
                            "      <td>2586</td>\n",
                            "      <td>342.0</td>\n",
                            "      <td>9</td>\n",
                            "      <td>7</td>\n",
                            "      <td>15</td>\n",
                            "      <td>240</td>\n",
                            "      <td>3</td>\n",
                            "      <td>SFO</td>\n",
                            "      <td>JFK</td>\n",
                            "    </tr>\n",
                            "    <tr>\n",
                            "      <th>1</th>\n",
                            "      <td>10.0</td>\n",
                            "      <td>1235</td>\n",
                            "      <td>185.0</td>\n",
                            "      <td>5</td>\n",
                            "      <td>6</td>\n",
                            "      <td>11</td>\n",
                            "      <td>366</td>\n",
                            "      <td>4</td>\n",
                            "      <td>LAX</td>\n",
                            "      <td>DFW</td>\n",
                            "    </tr>\n",
                            "    <tr>\n",
                            "      <th>2</th>\n",
                            "      <td>-7.0</td>\n",
                            "      <td>184</td>\n",
                            "      <td>76.0</td>\n",
                            "      <td>4</td>\n",
                            "      <td>17</td>\n",
                            "      <td>18</td>\n",
                            "      <td>172</td>\n",
                            "      <td>7</td>\n",
                            "      <td>BOS</td>\n",
                            "      <td>LGA</td>\n",
                            "    </tr>\n",
                            "    <tr>\n",
                            "      <th>3</th>\n",
                            "      <td>68.0</td>\n",
                            "      <td>862</td>\n",
                            "      <td>148.0</td>\n",
                            "      <td>7</td>\n",
                            "      <td>19</td>\n",
                            "      <td>21</td>\n",
                            "      <td>260</td>\n",
                            "      <td>7</td>\n",
                            "      <td>IAH</td>\n",
                            "      <td>DEN</td>\n",
                            "    </tr>\n",
                            "    <tr>\n",
                            "      <th>4</th>\n",
                            "      <td>24.0</td>\n",
                            "      <td>236</td>\n",
                            "      <td>71.0</td>\n",
                            "      <td>3</td>\n",
                            "      <td>20</td>\n",
                            "      <td>21</td>\n",
                            "      <td>266</td>\n",
                            "      <td>2</td>\n",
                            "      <td>LAS</td>\n",
                            "      <td>LAX</td>\n",
                            "    </tr>\n",
                            "  </tbody>\n",
                            "</table>\n",
                            "</div>"
                        ],
                        "text/plain": [
                            "   ARRIVAL_DELAY  DISTANCE  SCHEDULED_TIME  MONTH  SCHED_DEP_HOUR  \\\n",
                            "0           23.0      2586           342.0      9               7   \n",
                            "1           10.0      1235           185.0      5               6   \n",
                            "2           -7.0       184            76.0      4              17   \n",
                            "3           68.0       862           148.0      7              19   \n",
                            "4           24.0       236            71.0      3              20   \n",
                            "\n",
                            "   SCHED_ARR_HOUR  FLIGHT_COUNT  DAY_OF_WEEK ORIGIN_AIRPORT  \\\n",
                            "0              15           240            3            SFO   \n",
                            "1              11           366            4            LAX   \n",
                            "2              18           172            7            BOS   \n",
                            "3              21           260            7            IAH   \n",
                            "4              21           266            2            LAS   \n",
                            "\n",
                            "  DESTINATION_AIRPORT  \n",
                            "0                 JFK  \n",
                            "1                 DFW  \n",
                            "2                 LGA  \n",
                            "3                 DEN  \n",
                            "4                 LAX  "
                        ]
                    },
                    "execution_count": 72,
                    "metadata": {},
                    "output_type": "execute_result"
                }
            ],
            "source": [
                "df.head()"
            ]
        },
        {
            "cell_type": "code",
            "execution_count": 73,
            "metadata": {},
            "outputs": [],
            "source": [
                "df['DELAY_OR_NOT'] = df['ARRIVAL_DELAY'] > 15"
            ]
        },
        {
            "cell_type": "code",
            "execution_count": 74,
            "metadata": {},
            "outputs": [],
            "source": [
                "df.drop('ARRIVAL_DELAY', inplace=True, axis=1)"
            ]
        },
        {
            "cell_type": "code",
            "execution_count": 75,
            "metadata": {},
            "outputs": [
                {
                    "data": {
                        "text/html": [
                            "<div>\n",
                            "<style scoped>\n",
                            "    .dataframe tbody tr th:only-of-type {\n",
                            "        vertical-align: middle;\n",
                            "    }\n",
                            "\n",
                            "    .dataframe tbody tr th {\n",
                            "        vertical-align: top;\n",
                            "    }\n",
                            "\n",
                            "    .dataframe thead th {\n",
                            "        text-align: right;\n",
                            "    }\n",
                            "</style>\n",
                            "<table border=\"1\" class=\"dataframe\">\n",
                            "  <thead>\n",
                            "    <tr style=\"text-align: right;\">\n",
                            "      <th></th>\n",
                            "      <th>DISTANCE</th>\n",
                            "      <th>SCHEDULED_TIME</th>\n",
                            "      <th>MONTH</th>\n",
                            "      <th>SCHED_DEP_HOUR</th>\n",
                            "      <th>SCHED_ARR_HOUR</th>\n",
                            "      <th>FLIGHT_COUNT</th>\n",
                            "      <th>DAY_OF_WEEK</th>\n",
                            "      <th>ORIGIN_AIRPORT</th>\n",
                            "      <th>DESTINATION_AIRPORT</th>\n",
                            "      <th>DELAY_OR_NOT</th>\n",
                            "    </tr>\n",
                            "  </thead>\n",
                            "  <tbody>\n",
                            "    <tr>\n",
                            "      <th>0</th>\n",
                            "      <td>2586</td>\n",
                            "      <td>342.0</td>\n",
                            "      <td>9</td>\n",
                            "      <td>7</td>\n",
                            "      <td>15</td>\n",
                            "      <td>240</td>\n",
                            "      <td>3</td>\n",
                            "      <td>SFO</td>\n",
                            "      <td>JFK</td>\n",
                            "      <td>True</td>\n",
                            "    </tr>\n",
                            "    <tr>\n",
                            "      <th>1</th>\n",
                            "      <td>1235</td>\n",
                            "      <td>185.0</td>\n",
                            "      <td>5</td>\n",
                            "      <td>6</td>\n",
                            "      <td>11</td>\n",
                            "      <td>366</td>\n",
                            "      <td>4</td>\n",
                            "      <td>LAX</td>\n",
                            "      <td>DFW</td>\n",
                            "      <td>False</td>\n",
                            "    </tr>\n",
                            "    <tr>\n",
                            "      <th>2</th>\n",
                            "      <td>184</td>\n",
                            "      <td>76.0</td>\n",
                            "      <td>4</td>\n",
                            "      <td>17</td>\n",
                            "      <td>18</td>\n",
                            "      <td>172</td>\n",
                            "      <td>7</td>\n",
                            "      <td>BOS</td>\n",
                            "      <td>LGA</td>\n",
                            "      <td>False</td>\n",
                            "    </tr>\n",
                            "    <tr>\n",
                            "      <th>3</th>\n",
                            "      <td>862</td>\n",
                            "      <td>148.0</td>\n",
                            "      <td>7</td>\n",
                            "      <td>19</td>\n",
                            "      <td>21</td>\n",
                            "      <td>260</td>\n",
                            "      <td>7</td>\n",
                            "      <td>IAH</td>\n",
                            "      <td>DEN</td>\n",
                            "      <td>True</td>\n",
                            "    </tr>\n",
                            "    <tr>\n",
                            "      <th>4</th>\n",
                            "      <td>236</td>\n",
                            "      <td>71.0</td>\n",
                            "      <td>3</td>\n",
                            "      <td>20</td>\n",
                            "      <td>21</td>\n",
                            "      <td>266</td>\n",
                            "      <td>2</td>\n",
                            "      <td>LAS</td>\n",
                            "      <td>LAX</td>\n",
                            "      <td>True</td>\n",
                            "    </tr>\n",
                            "  </tbody>\n",
                            "</table>\n",
                            "</div>"
                        ],
                        "text/plain": [
                            "   DISTANCE  SCHEDULED_TIME  MONTH  SCHED_DEP_HOUR  SCHED_ARR_HOUR  \\\n",
                            "0      2586           342.0      9               7              15   \n",
                            "1      1235           185.0      5               6              11   \n",
                            "2       184            76.0      4              17              18   \n",
                            "3       862           148.0      7              19              21   \n",
                            "4       236            71.0      3              20              21   \n",
                            "\n",
                            "   FLIGHT_COUNT  DAY_OF_WEEK ORIGIN_AIRPORT DESTINATION_AIRPORT  DELAY_OR_NOT  \n",
                            "0           240            3            SFO                 JFK          True  \n",
                            "1           366            4            LAX                 DFW         False  \n",
                            "2           172            7            BOS                 LGA         False  \n",
                            "3           260            7            IAH                 DEN          True  \n",
                            "4           266            2            LAS                 LAX          True  "
                        ]
                    },
                    "execution_count": 75,
                    "metadata": {},
                    "output_type": "execute_result"
                }
            ],
            "source": [
                "df.head()"
            ]
        },
        {
            "attachments": {},
            "cell_type": "markdown",
            "metadata": {},
            "source": [
                "<div class='exercise-r'>  \n",
                "\n",
                "**1.1.2**\n",
                "    \n",
                "</div>"
            ]
        },
        {
            "cell_type": "code",
            "execution_count": 76,
            "metadata": {
                "collapsed": true
            },
            "outputs": [],
            "source": [
                "# your code here\n",
                "ohe_cols = ['MONTH', 'SCHED_DEP_HOUR', 'SCHED_ARR_HOUR', 'DAY_OF_WEEK', 'ORIGIN_AIRPORT', 'DESTINATION_AIRPORT']\n",
                "# ohe_cols = ['MONTH', 'DAY_OF_WEEK', 'ORIGIN_AIRPORT', 'DESTINATION_AIRPORT']"
            ]
        },
        {
            "cell_type": "code",
            "execution_count": 77,
            "metadata": {},
            "outputs": [],
            "source": [
                "df = pd.get_dummies(df, columns = ohe_cols, drop_first=True)"
            ]
        },
        {
            "cell_type": "code",
            "execution_count": 14,
            "metadata": {},
            "outputs": [],
            "source": [
                "X_train, X_test, y_train, y_test = train_test_split(df.drop('DELAY_OR_NOT', axis=1), df['DELAY_OR_NOT'], test_size=0.2, random_state=111)"
            ]
        },
        {
            "cell_type": "code",
            "execution_count": 15,
            "metadata": {},
            "outputs": [],
            "source": [
                "#scale the x_train and x_test\n",
                "X_train = StandardScaler().fit_transform(X_train)\n",
                "X_test = StandardScaler().fit_transform(X_test)"
            ]
        },
        {
            "cell_type": "code",
            "execution_count": 22,
            "metadata": {},
            "outputs": [],
            "source": [
                "# deal with null values in X_train\n"
            ]
        },
        {
            "attachments": {},
            "cell_type": "markdown",
            "metadata": {},
            "source": [
                "<div class='exercise-r'>  \n",
                "    \n",
                "**1.2**\n",
                "    \n",
                "</div>"
            ]
        },
        {
            "cell_type": "code",
            "execution_count": 23,
            "metadata": {
                "collapsed": true
            },
            "outputs": [
                {
                    "name": "stderr",
                    "output_type": "stream",
                    "text": [
                        "2022-11-29 20:21:18.707191: I tensorflow/stream_executor/cuda/cuda_gpu_executor.cc:961] could not open file to read NUMA node: /sys/bus/pci/devices/0000:01:00.0/numa_node\n",
                        "Your kernel may have been built without NUMA support.\n",
                        "2022-11-29 20:21:19.170192: I tensorflow/stream_executor/cuda/cuda_gpu_executor.cc:961] could not open file to read NUMA node: /sys/bus/pci/devices/0000:01:00.0/numa_node\n",
                        "Your kernel may have been built without NUMA support.\n",
                        "2022-11-29 20:21:19.170459: I tensorflow/stream_executor/cuda/cuda_gpu_executor.cc:961] could not open file to read NUMA node: /sys/bus/pci/devices/0000:01:00.0/numa_node\n",
                        "Your kernel may have been built without NUMA support.\n",
                        "2022-11-29 20:21:19.205307: I tensorflow/core/platform/cpu_feature_guard.cc:193] This TensorFlow binary is optimized with oneAPI Deep Neural Network Library (oneDNN) to use the following CPU instructions in performance-critical operations:  AVX2 FMA\n",
                        "To enable them in other operations, rebuild TensorFlow with the appropriate compiler flags.\n",
                        "2022-11-29 20:21:19.225345: I tensorflow/stream_executor/cuda/cuda_gpu_executor.cc:961] could not open file to read NUMA node: /sys/bus/pci/devices/0000:01:00.0/numa_node\n",
                        "Your kernel may have been built without NUMA support.\n",
                        "2022-11-29 20:21:19.226104: I tensorflow/stream_executor/cuda/cuda_gpu_executor.cc:961] could not open file to read NUMA node: /sys/bus/pci/devices/0000:01:00.0/numa_node\n",
                        "Your kernel may have been built without NUMA support.\n",
                        "2022-11-29 20:21:19.226513: I tensorflow/stream_executor/cuda/cuda_gpu_executor.cc:961] could not open file to read NUMA node: /sys/bus/pci/devices/0000:01:00.0/numa_node\n",
                        "Your kernel may have been built without NUMA support.\n",
                        "2022-11-29 20:21:23.435101: I tensorflow/stream_executor/cuda/cuda_gpu_executor.cc:961] could not open file to read NUMA node: /sys/bus/pci/devices/0000:01:00.0/numa_node\n",
                        "Your kernel may have been built without NUMA support.\n",
                        "2022-11-29 20:21:23.438338: I tensorflow/stream_executor/cuda/cuda_gpu_executor.cc:961] could not open file to read NUMA node: /sys/bus/pci/devices/0000:01:00.0/numa_node\n",
                        "Your kernel may have been built without NUMA support.\n",
                        "2022-11-29 20:21:23.438534: I tensorflow/core/common_runtime/gpu/gpu_device.cc:1616] Could not identify NUMA node of platform GPU id 0, defaulting to 0.  Your kernel may not have been built with NUMA support.\n",
                        "2022-11-29 20:21:23.439800: I tensorflow/stream_executor/cuda/cuda_gpu_executor.cc:961] could not open file to read NUMA node: /sys/bus/pci/devices/0000:01:00.0/numa_node\n",
                        "Your kernel may have been built without NUMA support.\n",
                        "2022-11-29 20:21:23.443062: I tensorflow/core/common_runtime/gpu/gpu_device.cc:1532] Created device /job:localhost/replica:0/task:0/device:GPU:0 with 4604 MB memory:  -> device: 0, name: NVIDIA GeForce GTX 1060, pci bus id: 0000:01:00.0, compute capability: 6.1\n"
                    ]
                }
            ],
            "source": [
                "# build your NN \n",
                "# your code here\n",
                "#dense feed-forward network with two hidden layers with 15 nodes in each hidden layer\n",
                "NN_model = tf.keras.models.Sequential()\n",
                "NN_model.add(tf.keras.layers.Dense(15, input_dim=X_train.shape[1], activation='relu'))\n",
                "NN_model.add(tf.keras.layers.Dense(15, activation='relu'))\n",
                "NN_model.add(tf.keras.layers.Dense(1, activation='sigmoid'))\n"
            ]
        },
        {
            "cell_type": "code",
            "execution_count": 30,
            "metadata": {
                "collapsed": true
            },
            "outputs": [
                {
                    "name": "stdout",
                    "output_type": "stream",
                    "text": [
                        "Epoch 1/10\n",
                        "200/200 [==============================] - 10s 36ms/step - loss: 0.3241 - accuracy: 0.8636 - val_loss: 0.3409 - val_accuracy: 0.8438\n",
                        "Epoch 2/10\n",
                        "200/200 [==============================] - 4s 22ms/step - loss: 0.3023 - accuracy: 0.8717 - val_loss: 0.3724 - val_accuracy: 0.8275\n",
                        "Epoch 3/10\n",
                        "200/200 [==============================] - 5s 24ms/step - loss: 0.2875 - accuracy: 0.8784 - val_loss: 0.3994 - val_accuracy: 0.8175\n",
                        "Epoch 4/10\n",
                        "200/200 [==============================] - 3s 15ms/step - loss: 0.2752 - accuracy: 0.8852 - val_loss: 0.4172 - val_accuracy: 0.8163\n",
                        "Epoch 5/10\n",
                        "200/200 [==============================] - 4s 19ms/step - loss: 0.2630 - accuracy: 0.8905 - val_loss: 0.4471 - val_accuracy: 0.8069\n",
                        "Epoch 6/10\n",
                        "200/200 [==============================] - 4s 22ms/step - loss: 0.2530 - accuracy: 0.8961 - val_loss: 0.4635 - val_accuracy: 0.8019\n",
                        "Epoch 7/10\n",
                        "200/200 [==============================] - 4s 18ms/step - loss: 0.2418 - accuracy: 0.8991 - val_loss: 0.4850 - val_accuracy: 0.8000\n",
                        "Epoch 8/10\n",
                        "200/200 [==============================] - 3s 14ms/step - loss: 0.2317 - accuracy: 0.9047 - val_loss: 0.5033 - val_accuracy: 0.7956\n",
                        "Epoch 9/10\n",
                        "200/200 [==============================] - 3s 14ms/step - loss: 0.2225 - accuracy: 0.9100 - val_loss: 0.5355 - val_accuracy: 0.7831\n",
                        "Epoch 10/10\n",
                        "200/200 [==============================] - 3s 14ms/step - loss: 0.2132 - accuracy: 0.9153 - val_loss: 0.5583 - val_accuracy: 0.7825\n"
                    ]
                },
                {
                    "data": {
                        "text/plain": [
                            "<keras.callbacks.History at 0x7fe7e01325f0>"
                        ]
                    },
                    "execution_count": 30,
                    "metadata": {},
                    "output_type": "execute_result"
                }
            ],
            "source": [
                "# compile it and run it\n",
                "# your code here \n",
                "NN_model.compile(loss='binary_crossentropy', optimizer='adam', metrics=['accuracy'])\n",
                "NN_model.fit(X_train, y_train, epochs=10, batch_size=32, verbose=1, validation_split=0.2)\n"
            ]
        },
        {
            "cell_type": "code",
            "execution_count": 31,
            "metadata": {},
            "outputs": [
                {
                    "data": {
                        "text/plain": [
                            "dict_keys(['loss', 'accuracy', 'val_loss', 'val_accuracy'])"
                        ]
                    },
                    "execution_count": 31,
                    "metadata": {},
                    "output_type": "execute_result"
                }
            ],
            "source": [
                "NN_model.history.history.keys()"
            ]
        },
        {
            "cell_type": "code",
            "execution_count": 35,
            "metadata": {
                "collapsed": true
            },
            "outputs": [
                {
                    "data": {
                        "text/plain": [
                            "[<matplotlib.lines.Line2D at 0x7fe7ac1c9de0>]"
                        ]
                    },
                    "execution_count": 35,
                    "metadata": {},
                    "output_type": "execute_result"
                },
                {
                    "data": {
                        "image/png": "[encoded data removed]",
                        "text/plain": [
                            "<Figure size 432x288 with 1 Axes>"
                        ]
                    },
                    "metadata": {
                        "needs_background": "light"
                    },
                    "output_type": "display_data"
                }
            ],
            "source": [
                "# plot train and val acc as  a function of epochs\n",
                "# your code here\n",
                "plt.plot(NN_model.history.history['accuracy'])\n",
                "plt.plot(NN_model.history.history['val_accuracy'])"
            ]
        },
        {
            "cell_type": "code",
            "execution_count": 36,
            "metadata": {
                "collapsed": true
            },
            "outputs": [
                {
                    "name": "stdout",
                    "output_type": "stream",
                    "text": [
                        "250/250 [==============================] - 3s 10ms/step\n",
                        "NN_model_train_auc: 0.9582647021628873\n"
                    ]
                }
            ],
            "source": [
                "# primer to print: \n",
                "# print(\"NN_model_train_auc:\", roc_auc_score(y_train, y_hat))\n",
                "# your code here \n",
                "y_hat = NN_model.predict(X_train)\n",
                "print(\"NN_model_train_auc:\", roc_auc_score(y_train, y_hat))\n"
            ]
        },
        {
            "cell_type": "code",
            "execution_count": 37,
            "metadata": {
                "collapsed": true
            },
            "outputs": [
                {
                    "name": "stdout",
                    "output_type": "stream",
                    "text": [
                        "63/63 [==============================] - 1s 14ms/step\n",
                        "NN_model_test_auc: 0.7487853836138303\n"
                    ]
                }
            ],
            "source": [
                "# your code here\n",
                "y_fit = NN_model.predict(X_test)\n",
                "print(\"NN_model_test_auc:\", roc_auc_score(y_test, y_fit))\n"
            ]
        },
        {
            "attachments": {},
            "cell_type": "markdown",
            "metadata": {},
            "source": [
                "<div class='exercise-r'>\n",
                "\n",
                "**1.3**\n",
                "\n",
                "</div>"
            ]
        },
        {
            "cell_type": "code",
            "execution_count": 40,
            "metadata": {},
            "outputs": [],
            "source": [
                "DELAY_OR_NOT = y_hat > 0.5"
            ]
        },
        {
            "cell_type": "code",
            "execution_count": 41,
            "metadata": {
                "collapsed": true
            },
            "outputs": [
                {
                    "name": "stderr",
                    "output_type": "stream",
                    "text": [
                        "/home/munch/.local/lib/python3.10/site-packages/sklearn/utils/validation.py:1111: DataConversionWarning: A column-vector y was passed when a 1d array was expected. Please change the shape of y to (n_samples, ), for example using ravel().\n",
                        "  y = column_or_1d(y, warn=True)\n"
                    ]
                },
                {
                    "data": {
                        "text/plain": [
                            "0.7298849881853691"
                        ]
                    },
                    "execution_count": 41,
                    "metadata": {},
                    "output_type": "execute_result"
                }
            ],
            "source": [
                "# Fit the logistic regression model\n",
                "# your code here\n",
                "#use ridge  regression\n",
                "logreg = LogisticRegression(penalty='l2', C=1.0, solver='lbfgs', max_iter=1000)\n",
                "logreg.fit(X_train, DELAY_OR_NOT)\n",
                "y_p = logreg.predict(X_test)\n",
                "roc_auc_score(y_test, y_p)\n",
                "\n"
            ]
        },
        {
            "attachments": {},
            "cell_type": "markdown",
            "metadata": {},
            "source": [
                "<div class='exercise-r'>\n",
                "\n",
                "**1.4**    \n",
                "\n",
                "**1.4.1**\n",
                "\n",
                "</div>"
            ]
        },
        {
            "cell_type": "code",
            "execution_count": 42,
            "metadata": {
                "collapsed": true
            },
            "outputs": [],
            "source": [
                "# your code here\n",
                "#apply permutation importance to the model \n",
                "scores = permutation_importance(logreg, X_test, y_test, scoring='roc_auc')\n"
            ]
        },
        {
            "cell_type": "code",
            "execution_count": 47,
            "metadata": {},
            "outputs": [
                {
                    "data": {
                        "text/plain": [
                            "(2000, 866)"
                        ]
                    },
                    "execution_count": 47,
                    "metadata": {},
                    "output_type": "execute_result"
                }
            ],
            "source": [
                "X_test.shape"
            ]
        },
        {
            "cell_type": "code",
            "execution_count": 44,
            "metadata": {},
            "outputs": [
                {
                    "data": {
                        "text/plain": [
                            "[<matplotlib.lines.Line2D at 0x7fe78c16dd50>]"
                        ]
                    },
                    "execution_count": 44,
                    "metadata": {},
                    "output_type": "execute_result"
                },
                {
                    "data": {
                        "image/png": "[encoded data removed]",
                        "text/plain": [
                            "<Figure size 432x288 with 1 Axes>"
                        ]
                    },
                    "metadata": {
                        "needs_background": "light"
                    },
                    "output_type": "display_data"
                }
            ],
            "source": [
                "#plot the obtained permutation importance\n",
                "plt.plot(scores.importances_mean)"
            ]
        },
        {
            "cell_type": "code",
            "execution_count": 85,
            "metadata": {},
            "outputs": [],
            "source": [
                "# get the mosr important features\n",
                "imp_colimns = np.argsort(scores.importances_mean)[-20:]"
            ]
        },
        {
            "cell_type": "code",
            "execution_count": 86,
            "metadata": {},
            "outputs": [
                {
                    "data": {
                        "text/plain": [
                            "Index(['MONTH_5', 'SCHED_ARR_HOUR_23', 'SCHED_DEP_HOUR_7',\n",
                            "       'ORIGIN_AIRPORT_ONT', 'SCHED_DEP_HOUR_16', 'DESTINATION_AIRPORT_LFT',\n",
                            "       'DAY_OF_WEEK_6', 'DAY_OF_WEEK_5', 'MONTH_10', 'DISTANCE',\n",
                            "       'SCHED_DEP_HOUR_6', 'SCHED_DEP_HOUR_21', 'SCHEDULED_TIME',\n",
                            "       'SCHED_DEP_HOUR_17', 'MONTH_8', 'SCHED_DEP_HOUR_5', 'MONTH_9',\n",
                            "       'SCHED_DEP_HOUR_20', 'SCHED_DEP_HOUR_18', 'SCHED_DEP_HOUR_19'],\n",
                            "      dtype='object')"
                        ]
                    },
                    "execution_count": 86,
                    "metadata": {},
                    "output_type": "execute_result"
                }
            ],
            "source": [
                "df.columns[imp_colimns]"
            ]
        },
        {
            "attachments": {},
            "cell_type": "markdown",
            "metadata": {},
            "source": [
                "**INTERPRETATION:**"
            ]
        },
        {
            "attachments": {},
            "cell_type": "markdown",
            "metadata": {},
            "source": [
                "*Your answer here*"
            ]
        },
        {
            "attachments": {},
            "cell_type": "markdown",
            "metadata": {},
            "source": [
                "<div class='exercise-r'>\n",
                "\n",
                "**1.4.2**\n",
                "</div>"
            ]
        },
        {
            "cell_type": "code",
            "execution_count": 95,
            "metadata": {
                "collapsed": true
            },
            "outputs": [
                {
                    "data": {
                        "text/plain": [
                            "-4.758831255668108e-19"
                        ]
                    },
                    "execution_count": 95,
                    "metadata": {},
                    "output_type": "execute_result"
                }
            ],
            "source": [
                "# your code here\n",
                "# Replace all values in all columns of the training set with the column mean\n",
                "X_train\n"
            ]
        },
        {
            "attachments": {},
            "cell_type": "markdown",
            "metadata": {},
            "source": [
                "<div class='exercise-r'>\n",
                "\n",
                "**1.4.3**\n",
                "    \n",
                "</div>"
            ]
        },
        {
            "cell_type": "code",
            "execution_count": 13,
            "metadata": {
                "collapsed": true
            },
            "outputs": [],
            "source": [
                "# your code here\n"
            ]
        },
        {
            "attachments": {},
            "cell_type": "markdown",
            "metadata": {},
            "source": [
                "<div class='exercise-r'>\n",
                "\n",
                "**1.4.4**\n",
                "    \n",
                "</div>"
            ]
        },
        {
            "cell_type": "code",
            "execution_count": 14,
            "metadata": {
                "collapsed": true
            },
            "outputs": [],
            "source": [
                "# your code here\n"
            ]
        },
        {
            "attachments": {},
            "cell_type": "markdown",
            "metadata": {},
            "source": [
                "**INTERPRETATION:**"
            ]
        },
        {
            "attachments": {},
            "cell_type": "markdown",
            "metadata": {},
            "source": [
                "*your answer here*"
            ]
        },
        {
            "attachments": {},
            "cell_type": "markdown",
            "metadata": {},
            "source": [
                "<div class='exercise-r'>\n",
                "\n",
                "**1.5**\n",
                "\n",
                "</div>"
            ]
        },
        {
            "cell_type": "code",
            "execution_count": 15,
            "metadata": {
                "collapsed": true
            },
            "outputs": [],
            "source": [
                "def progressbar(n_step, n_total):\n",
                "    \"\"\"Prints self-updating progress bar to stdout to track for-loop progress\n",
                "    \n",
                "    There are entire 3rd-party libraries dedicated to custom progress-bars.\n",
                "    A simple function like this is often more than enough to get the job done.\n",
                "    \n",
                "    :param n_total: total number of expected for-loop iterations\n",
                "    :type n_total: int\n",
                "    :param n_step: current iteration number, starting at 0\n",
                "    :type n_step: int\n",
                "\n",
                "    .. example::\n",
                "    \n",
                "        for i in range(n_iterations):\n",
                "            progressbar(i, n_iterations)\n",
                "            \n",
                "    .. source:\n",
                "    \n",
                "        This function is a simplified version of code found here:\n",
                "        https://stackoverflow.com/questions/3160699/python-progress-bar/15860757#15860757\n",
                "    \"\"\"\n",
                "    n_step = n_step + 1\n",
                "    barlen = 50\n",
                "    progress = n_step / n_total\n",
                "    block = int(round(barlen * progress))\n",
                "    status = \"\"\n",
                "    if n_step == n_total:\n",
                "        status = \"Done...\\r\\n\\n\"\n",
                "    text = \"\\r [{0}] {1}/{2} {3}\".format(\n",
                "        \"=\" * block + \"-\" * (barlen - block),\n",
                "        n_step,\n",
                "        n_total,\n",
                "        status,\n",
                "    )\n",
                "    sys.stdout.write(text)\n",
                "    sys.stdout.flush()"
            ]
        },
        {
            "cell_type": "code",
            "execution_count": 16,
            "metadata": {},
            "outputs": [
                {
                    "name": "stdout",
                    "output_type": "stream",
                    "text": [
                        "CPU times: user 2 µs, sys: 1e+03 ns, total: 3 µs\n",
                        "Wall time: 5.01 µs\n"
                    ]
                }
            ],
            "source": [
                "%%time\n",
                "# Bootstrap and train your networks and get predictions on fixed X test\n",
                "# your code here\n"
            ]
        },
        {
            "cell_type": "code",
            "execution_count": 17,
            "metadata": {
                "collapsed": true
            },
            "outputs": [],
            "source": [
                "# generate your plot\n",
                "# your code here\n"
            ]
        },
        {
            "attachments": {},
            "cell_type": "markdown",
            "metadata": {},
            "source": [
                "**INTERPRETATION:**"
            ]
        },
        {
            "attachments": {},
            "cell_type": "markdown",
            "metadata": {},
            "source": [
                "*your answer here*"
            ]
        },
        {
            "attachments": {},
            "cell_type": "markdown",
            "metadata": {},
            "source": [
                "<div class='exercise-r'>\n",
                "\n",
                "**1.6**\n",
                "\n",
                "</div>"
            ]
        },
        {
            "cell_type": "code",
            "execution_count": 18,
            "metadata": {
                "collapsed": true
            },
            "outputs": [],
            "source": [
                "# your code here\n"
            ]
        },
        {
            "attachments": {},
            "cell_type": "markdown",
            "metadata": {},
            "source": [
                "**INTERPRETATION:**"
            ]
        },
        {
            "attachments": {},
            "cell_type": "markdown",
            "metadata": {},
            "source": [
                "*your answer here*"
            ]
        },
        {
            "attachments": {},
            "cell_type": "markdown",
            "metadata": {},
            "source": [
                "<div class=\"alert alert-block alert-danger\" style=\"color:black;background-color:#E7F4FA\">\n",
                "\n",
                "<h1>PART 2.1 [30 pts]: Kannada MNIST Kaggle competition using ANNs </h1>\n",
                "\n",
                "[Return to contents](#contents)\n",
                "\n",
                "\n",
                "<a id=\"part2.1intro\"></a>\n",
                "<h2> Problem Statement </h2>\n",
                "\n",
                "ANNs can be prone to overfitting, where they learn specific patterns present in the training data, but the patterns do not generalize to new data.\n",
                "\n",
                "There are several methods used to improve ANN generalization. \n",
                "\n",
                "One approach is to use an architecture just barely wide or deep enough to fit the data. The idea here is that smaller networks are less expressive and thus less able to overfit the data.\n",
                "\n",
                "However, it is difficult to know a priori the correct size of the ANN, and it is computationally costly to hunt for the correct size. Given this, other methodologies are used to prevent overfitting and improve ANNs' generalizability. These methodologies, like other techniques that combat overfitting, fall under the umbrella term of \"regularization\".\n",
                "\n",
                "In this problem, you are asked to regularize a network of a given architecture.\n",
                "\n",
                "<a id=\"part2.1about\"></a>\n",
                "\n",
                "<h3> The Kannada MNIST Dataset </h3>\n",
                "\n",
                "<img src=\"https://www.googleapis.com/download/storage/v1/b/kaggle-user-content/o/inbox%2F3630446%2F1e01bcc28b5ccb7ad38a4ffefb13cde0%2Fwondu.png?generation=1603204077179447&alt=media\" style=\"float:right\">\n",
                "\n",
                "For this problem, we will be working with a modified version of [Kannada MNIST dataset](https://arxiv.org/pdf/1908.01242.pdf) , which is a large database of handwritten digits in the indigenous language *Kannada*.\n",
                "\n",
                "This dataset consists of 60,000 28x28 grayscale images of the ten digits, along with a test set of 10,000 images. \n",
                "\n",
                "For this homework, we will simplify the problem by only use the digits labeled `0` and `1` owing to the similarity of the two symbols, and we want to use a total of 1200 samples for training (this includes the data you will use for validation).\n",
                "\n",
                "To understand the dataset better, we recommend this [article](https://towardsdatascience.com/a-new-handwritten-digits-dataset-in-ml-town-kannada-mnist-69df0f2d1456) by Vinay Prabhu, the curator of the dataset.\n",
                "\n",
                "<a id=\"part2data\"></a>\n",
                "\n",
                "<h3> Downloading the Data Files </h3>\n",
                "\n",
                "Please download all files from Kaggle. **The link will be given soon.**\n",
                "\n",
                "Here's a brief description of the available files:\n",
                "\n",
                "- `kmnist_train.csv` is our training dataset and the last column contains our response class. The 784 other columns correspond to the pixel values of the 28x28 dimension image.\n",
                "\n",
                "Class 0 means a sample is the handwritten digit `0` and class 1 means a sample is the handwritten digit `1` in the Kannada language.  \n",
                "\n",
                "- `kmnist_test.csv` has a structure similar to `kmnist_train.csv`, however the class label column is NOT included in with the test set. `kmnist_test.csv` has 2000 samples. \n",
                "\n",
                "Kaggle leaderboard scores are accuracy scores calculated by Kaggle when you upload your predictions on this test set.\n",
                "\n",
                "- `sample_submission.csv` is the format that kaggle will accept.\n",
                "\n",
                "<a id=\"part2.1kaggle\"></a>\n",
                "\n",
                "<h3> AI2-C2 Homework Kaggle Competition </h3>\n",
                "\n",
                "You need to create an account on Kaggle and join the competition. **The link is in the description.** \n",
                "\n",
                "**This is a limited participation competition. Please DO NOT share this link you will recieve.**\n",
                "\n",
                "For more information on the rules governing this Kaggle competition, **please [see question 2.1.3 below](#part2_3).**\n",
                "\n",
                "</div>"
            ]
        },
        {
            "attachments": {},
            "cell_type": "markdown",
            "metadata": {},
            "source": [
                "<div class=\"alert alert-block alert-danger\" style=\"color:black;background-color:#E7F4FA\">\n",
                "\n",
                "<h2>PART 2.1 Questions</h2>\n",
                "\n",
                "**2.1.1 [5 points]** **Get the data:**\n",
                "\n",
                "- Download data from the competition page.\n",
                "- We will utilize `kmnist_test.csv` in question 2.1.3.4 only. \n",
                "- Load the data and use the matplotlib function `imshow` to display a handwritten 0 and a handwritten 1.\n",
                "\n",
                "**2.1.2 [10 points]** **Overfit an ANN:** \n",
                "\n",
                "Build a fully-connected network (FCN) with the architecture given below using `tensorflow.keras` and assign it to a variable called `model_overfit`:\n",
                "\n",
                "- Number of hidden layers: 3\n",
                "- Nodes per hidden layer: 100, 100, 100\n",
                "- Activation function: ReLU \n",
                "- Loss function: binary_crossentropy\n",
                "- Output unit: Sigmoid \n",
                "- Optimizer: adam (use the defaults; no other tuning)\n",
                "- Epochs: no more than 2,000\n",
                "- Batch size: 128\n",
                "- Validation size: 0.3\n",
                "\n",
                "![](https://www.googleapis.com/download/storage/v1/b/kaggle-user-content/o/inbox%2F3630446%2F6a491ff8d4ff590dc8ded9a25461cd4b%2FScreenshot%202020-10-20%20at%209.42.36%20PM.png?generation=1603210420701577&alt=media) \n",
                "    \n",
                "This ANN, when trained on the dataset, will overfit to the training set. Plot the training accuracy and validation accuracy (the x-axis should represent the number of epochs, and the y-axis should represent the accuracy). Explain how you can tell the model is overfitting. \n",
                "\n",
                "<a id=\"part2_3\"></a>\n",
                "\n",
                "**2.1.3 [15 points]** **Regularize overfit network:**\n",
                "\n",
                "Create an ANN that doesn't overfit and compete on Kaggle.\n",
                "\n",
                "**DON'TS**\n",
                "\n",
                "**Don't change the architecture**. In other words, keep the number of layers, number of nodes, activation function,  loss function and output unit the same. **No CNNs/RNNs/enhancements allowed for the competition.**\n",
                "\n",
                "    \n",
                "**NOTE**: We strongly discourage you to use a different training set than the one provided to you (Data augmentation is allowed). If the test set accuracy of your model in this notebook is significantly different than your kaggle submission score, you will receive zero credit for this segment of the homework.\n",
                "\n",
                "    \n",
                "**DOS**\n",
                "\n",
                "You can change the number of epochs (max 2000), batch size, optimizer, and of course, add elements that can help to regularize (e.g., dropout, L2 norm, etc.). You **should** experiment with data augmentation. \n",
                "\n",
                "\n",
                "- **2.1.3.1** Display your model summary and your training and validation accuracy and loss.\n",
                "\n",
                "\n",
                "- **2.1.3.2** Print the difference between the training and validation accuracies and the difference between the training and validation losses for the final trained epoch used by your model.\n",
                "\n",
                "\n",
                "- **2.1.3.3** Plot the training accuracy and validation accuracy as a function of epochs.\n",
                "\n",
                "\n",
                "- **2.1.3.4** Generate your test set class predictions using your regularized model. Save those predictions to a `.csv` formatted file. Submit that `.csv` file to this Kaggle Competition for leaderboard scoring.\n",
                "\n",
                "\n",
                "- **2.1.3.5** **Specify your Kaggle name that you have used on the leaderboard**. *We can't give you credit without this.*\n",
                "\n",
                "\n",
                "    \n",
                "**IMPORTANT NOTES ABOUT SCORING**:\n",
                "\n",
                "- The **public leaderboard** on kaggle only displays your performance on 50% of the test set.\n",
                "\n",
                "\n",
                "- After the competition is complete, the **private leaderboard** will show your performance on the FULL test set.\n",
                "    \n",
                "Only the **top 5** competitors (as ranked on the hidden private leaderboard) will be eligible for full credit on question 2.1.3 (out of **15 points**). Remaining competitors will be scored out of **10 points** only for 2.1.3.\n",
                "\n",
                "\n",
                "**ADDITIONAL RULES:**\n",
                "\n",
                "- Multiple Kaggle submissions are permitted, **just note** that you will need to choose, on Kaggle, which submission shall be used for final scoring.\n",
                "\n",
                "\n",
                "- The version of your final notebook submitted on edStem **must contain the same model** used to generate to your chosen Kaggle submission.\n",
                "\n",
                "\n",
                "- **Please do not manually label your submissions.** In other words, the labels should only be the outcome of your model.\n",
                "\n",
                "\n",
                "- **No external data are allowed, please only use the KMNIST training data downloaded via the link above for training your model.**\n",
                "\n",
                "\n",
                "- **Do not** create multiple accounts on Kaggle.\n",
                "\n",
                "</div>"
            ]
        },
        {
            "attachments": {},
            "cell_type": "markdown",
            "metadata": {},
            "source": [
                "<a id=\"part2.1solutions\"></a>\n",
                "\n",
                "## PART 2.1 Solutions\n",
                "\n",
                "[Return to contents](#contents)\n",
                "\n",
                "\n"
            ]
        },
        {
            "attachments": {},
            "cell_type": "markdown",
            "metadata": {},
            "source": [
                "<div class='exercise-r'>\n",
                "\n",
                "**2.1.1** \n",
                "    \n",
                "</div>"
            ]
        },
        {
            "cell_type": "code",
            "execution_count": 156,
            "metadata": {
                "collapsed": true
            },
            "outputs": [],
            "source": [
                "# your code here \n",
                "#load the kmnist data\n",
                "df_train = pd.read_csv('ai2-cohort-5-homework-contest/kmnist_train.csv/kmnist_train.csv')\n",
                "df_test = pd.read_csv('ai2-cohort-5-homework-contest/kmnist_test.csv/kmnist_test.csv')"
            ]
        },
        {
            "cell_type": "code",
            "execution_count": 157,
            "metadata": {},
            "outputs": [],
            "source": [
                "x = df_train.drop([\"output\"], axis = 1)\n",
                "y = df_train.output"
            ]
        },
        {
            "cell_type": "code",
            "execution_count": 158,
            "metadata": {},
            "outputs": [],
            "source": [
                "X_train, X_test, y_train, y_test = train_test_split(x, y, train_size = 0.7,random_state=44)"
            ]
        },
        {
            "cell_type": "code",
            "execution_count": 159,
            "metadata": {},
            "outputs": [
                {
                    "data": {
                        "image/png": "[encoded data removed]",
                        "text/plain": [
                            "<Figure size 720x540 with 1 Axes>"
                        ]
                    },
                    "metadata": {
                        "needs_background": "light"
                    },
                    "output_type": "display_data"
                },
                {
                    "name": "stdout",
                    "output_type": "stream",
                    "text": [
                        "label 1\n"
                    ]
                }
            ],
            "source": [
                "#imshow the images\n",
                "plt.imshow(df_train.iloc[1000,:-1].values.reshape(28,28))\n",
                "plt.show()\n",
                "print('label',df_train.iloc[:,-1][0])"
            ]
        },
        {
            "attachments": {},
            "cell_type": "markdown",
            "metadata": {},
            "source": [
                "<div class='exercise-r'>\n",
                "\n",
                "**2.1.2**\n",
                "    \n",
                "</div>"
            ]
        },
        {
            "cell_type": "code",
            "execution_count": 160,
            "metadata": {
                "collapsed": true
            },
            "outputs": [],
            "source": [
                "# your code here\n",
                "'''\n",
                "Build a fully-connected network (FCN) with the architecture given below using tensorflow.keras and assign it to a variable called model_overfit:\n",
                "\n",
                "Number of hidden layers: 3\n",
                "Nodes per hidden layer: 100, 100, 100\n",
                "Activation function: ReLU\n",
                "Loss function: binary_crossentropy\n",
                "Output unit: Sigmoid\n",
                "Optimizer: adam (use the defaults; no other tuning)\n",
                "Epochs: no more than 2,000\n",
                "Batch size: 128\n",
                "Validation size: 0.3\n",
                "Use regularization techniques like Batch Normalization, Dropout, and Early Stopping to prevent overfitting.\n",
                "\n",
                "'''\n",
                "#creating a Sequential model\n",
                "NN_model = tf.keras.models.Sequential()\n",
                "\n",
                "NN_model.add(tf.keras.layers.Dense(100, input_dim=df.shape[1]-1, activation='relu'))\n",
                "NN_model.add(tf.keras.layers.Dense(100, activation='relu'))\n",
                "NN_model.add(tf.keras.layers.Dense(100, activation='relu'))\n",
                "\n",
                "NN_model.add(tf.keras.layers.Dense(1, activation='sigmoid'))\n",
                "\n",
                "# Compiling the mode with binary_crossentropy\n",
                "NN_model.compile(loss='binary_crossentropy', optimizer='adam', metrics=['accuracy'])"
            ]
        },
        {
            "cell_type": "code",
            "execution_count": 161,
            "metadata": {},
            "outputs": [
                {
                    "name": "stdout",
                    "output_type": "stream",
                    "text": [
                        "Model: \"sequential_24\"\n",
                        "_________________________________________________________________\n",
                        " Layer (type)                Output Shape              Param #   \n",
                        "=================================================================\n",
                        " dense_96 (Dense)            (None, 100)               78500     \n",
                        "                                                                 \n",
                        " dense_97 (Dense)            (None, 100)               10100     \n",
                        "                                                                 \n",
                        " dense_98 (Dense)            (None, 100)               10100     \n",
                        "                                                                 \n",
                        " dense_99 (Dense)            (None, 1)                 101       \n",
                        "                                                                 \n",
                        "=================================================================\n",
                        "Total params: 98,801\n",
                        "Trainable params: 98,801\n",
                        "Non-trainable params: 0\n",
                        "_________________________________________________________________\n"
                    ]
                }
            ],
            "source": [
                "NN_model.summary()"
            ]
        },
        {
            "cell_type": "code",
            "execution_count": 162,
            "metadata": {},
            "outputs": [
                {
                    "name": "stdout",
                    "output_type": "stream",
                    "text": [
                        "Epoch 1/100\n",
                        "5/5 [==============================] - 1s 49ms/step - loss: 9.6392 - accuracy: 0.4830 - val_loss: 1.2634 - val_accuracy: 0.6627\n",
                        "Epoch 2/100\n",
                        "5/5 [==============================] - 0s 27ms/step - loss: 1.7445 - accuracy: 0.6190 - val_loss: 1.1316 - val_accuracy: 0.5992\n",
                        "Epoch 3/100\n",
                        "5/5 [==============================] - 0s 12ms/step - loss: 1.1985 - accuracy: 0.6514 - val_loss: 1.2651 - val_accuracy: 0.6429\n",
                        "Epoch 4/100\n",
                        "5/5 [==============================] - 0s 10ms/step - loss: 0.8273 - accuracy: 0.6854 - val_loss: 0.9710 - val_accuracy: 0.6389\n",
                        "Epoch 5/100\n",
                        "5/5 [==============================] - 0s 9ms/step - loss: 0.6151 - accuracy: 0.7483 - val_loss: 0.6441 - val_accuracy: 0.7024\n",
                        "Epoch 6/100\n",
                        "5/5 [==============================] - 0s 10ms/step - loss: 0.5380 - accuracy: 0.7636 - val_loss: 0.6794 - val_accuracy: 0.6865\n",
                        "Epoch 7/100\n",
                        "5/5 [==============================] - 0s 9ms/step - loss: 0.4436 - accuracy: 0.8095 - val_loss: 0.5334 - val_accuracy: 0.7659\n",
                        "Epoch 8/100\n",
                        "5/5 [==============================] - 0s 10ms/step - loss: 0.3526 - accuracy: 0.8418 - val_loss: 0.5153 - val_accuracy: 0.7778\n",
                        "Epoch 9/100\n",
                        "5/5 [==============================] - 0s 10ms/step - loss: 0.3225 - accuracy: 0.8707 - val_loss: 0.4907 - val_accuracy: 0.7778\n",
                        "Epoch 10/100\n",
                        "5/5 [==============================] - 0s 9ms/step - loss: 0.2938 - accuracy: 0.8639 - val_loss: 0.6104 - val_accuracy: 0.7738\n",
                        "Epoch 11/100\n",
                        "5/5 [==============================] - 0s 10ms/step - loss: 0.2451 - accuracy: 0.8878 - val_loss: 0.5307 - val_accuracy: 0.8056\n",
                        "Epoch 12/100\n",
                        "5/5 [==============================] - 0s 9ms/step - loss: 0.1960 - accuracy: 0.9320 - val_loss: 0.4505 - val_accuracy: 0.8214\n",
                        "Epoch 13/100\n",
                        "5/5 [==============================] - 0s 10ms/step - loss: 0.1593 - accuracy: 0.9490 - val_loss: 0.4342 - val_accuracy: 0.8532\n",
                        "Epoch 14/100\n",
                        "5/5 [==============================] - 0s 10ms/step - loss: 0.1422 - accuracy: 0.9490 - val_loss: 0.5145 - val_accuracy: 0.8294\n",
                        "Epoch 15/100\n",
                        "5/5 [==============================] - 0s 11ms/step - loss: 0.1481 - accuracy: 0.9371 - val_loss: 0.5337 - val_accuracy: 0.8135\n",
                        "Epoch 16/100\n",
                        "5/5 [==============================] - 0s 10ms/step - loss: 0.1270 - accuracy: 0.9558 - val_loss: 0.4110 - val_accuracy: 0.8492\n",
                        "Epoch 17/100\n",
                        "5/5 [==============================] - 0s 9ms/step - loss: 0.0908 - accuracy: 0.9711 - val_loss: 0.4063 - val_accuracy: 0.8532\n",
                        "Epoch 18/100\n",
                        "5/5 [==============================] - 0s 9ms/step - loss: 0.0742 - accuracy: 0.9830 - val_loss: 0.4326 - val_accuracy: 0.8651\n",
                        "Epoch 19/100\n",
                        "5/5 [==============================] - 0s 10ms/step - loss: 0.0626 - accuracy: 0.9881 - val_loss: 0.4044 - val_accuracy: 0.8690\n",
                        "Epoch 20/100\n",
                        "5/5 [==============================] - 0s 9ms/step - loss: 0.0555 - accuracy: 0.9898 - val_loss: 0.4008 - val_accuracy: 0.8651\n",
                        "Epoch 21/100\n",
                        "5/5 [==============================] - 0s 12ms/step - loss: 0.0445 - accuracy: 0.9932 - val_loss: 0.4201 - val_accuracy: 0.8690\n",
                        "Epoch 22/100\n",
                        "5/5 [==============================] - 0s 8ms/step - loss: 0.0388 - accuracy: 0.9932 - val_loss: 0.4112 - val_accuracy: 0.8730\n",
                        "Epoch 23/100\n",
                        "5/5 [==============================] - 0s 10ms/step - loss: 0.0344 - accuracy: 0.9949 - val_loss: 0.3940 - val_accuracy: 0.8730\n",
                        "Epoch 24/100\n",
                        "5/5 [==============================] - 0s 10ms/step - loss: 0.0309 - accuracy: 0.9983 - val_loss: 0.4578 - val_accuracy: 0.8770\n",
                        "Epoch 25/100\n",
                        "5/5 [==============================] - 0s 9ms/step - loss: 0.0265 - accuracy: 1.0000 - val_loss: 0.4005 - val_accuracy: 0.8690\n",
                        "Epoch 26/100\n",
                        "5/5 [==============================] - 0s 10ms/step - loss: 0.0224 - accuracy: 1.0000 - val_loss: 0.4308 - val_accuracy: 0.8730\n",
                        "Epoch 27/100\n",
                        "5/5 [==============================] - 0s 9ms/step - loss: 0.0180 - accuracy: 1.0000 - val_loss: 0.4039 - val_accuracy: 0.8810\n",
                        "Epoch 28/100\n",
                        "5/5 [==============================] - 0s 9ms/step - loss: 0.0172 - accuracy: 1.0000 - val_loss: 0.4497 - val_accuracy: 0.8730\n",
                        "Epoch 29/100\n",
                        "5/5 [==============================] - 0s 8ms/step - loss: 0.0157 - accuracy: 1.0000 - val_loss: 0.4131 - val_accuracy: 0.8849\n",
                        "Epoch 30/100\n",
                        "5/5 [==============================] - 0s 10ms/step - loss: 0.0139 - accuracy: 1.0000 - val_loss: 0.4251 - val_accuracy: 0.8810\n",
                        "Epoch 31/100\n",
                        "5/5 [==============================] - 0s 10ms/step - loss: 0.0124 - accuracy: 1.0000 - val_loss: 0.4396 - val_accuracy: 0.8770\n",
                        "Epoch 32/100\n",
                        "5/5 [==============================] - 0s 9ms/step - loss: 0.0113 - accuracy: 1.0000 - val_loss: 0.4277 - val_accuracy: 0.8810\n",
                        "Epoch 33/100\n",
                        "5/5 [==============================] - 0s 9ms/step - loss: 0.0096 - accuracy: 1.0000 - val_loss: 0.4462 - val_accuracy: 0.8849\n",
                        "Epoch 34/100\n",
                        "5/5 [==============================] - 0s 9ms/step - loss: 0.0083 - accuracy: 1.0000 - val_loss: 0.4454 - val_accuracy: 0.8810\n",
                        "Epoch 35/100\n",
                        "5/5 [==============================] - 0s 9ms/step - loss: 0.0075 - accuracy: 1.0000 - val_loss: 0.4570 - val_accuracy: 0.8810\n",
                        "Epoch 36/100\n",
                        "5/5 [==============================] - 0s 9ms/step - loss: 0.0068 - accuracy: 1.0000 - val_loss: 0.4533 - val_accuracy: 0.8810\n",
                        "Epoch 37/100\n",
                        "5/5 [==============================] - 0s 9ms/step - loss: 0.0064 - accuracy: 1.0000 - val_loss: 0.4657 - val_accuracy: 0.8810\n",
                        "Epoch 38/100\n",
                        "5/5 [==============================] - 0s 9ms/step - loss: 0.0058 - accuracy: 1.0000 - val_loss: 0.4654 - val_accuracy: 0.8810\n",
                        "Epoch 39/100\n",
                        "5/5 [==============================] - 0s 9ms/step - loss: 0.0054 - accuracy: 1.0000 - val_loss: 0.4709 - val_accuracy: 0.8810\n",
                        "Epoch 40/100\n",
                        "5/5 [==============================] - 0s 10ms/step - loss: 0.0050 - accuracy: 1.0000 - val_loss: 0.4750 - val_accuracy: 0.8889\n",
                        "Epoch 41/100\n",
                        "5/5 [==============================] - 0s 9ms/step - loss: 0.0047 - accuracy: 1.0000 - val_loss: 0.4791 - val_accuracy: 0.8849\n",
                        "Epoch 42/100\n",
                        "5/5 [==============================] - 0s 9ms/step - loss: 0.0044 - accuracy: 1.0000 - val_loss: 0.4804 - val_accuracy: 0.8849\n",
                        "Epoch 43/100\n",
                        "5/5 [==============================] - 0s 9ms/step - loss: 0.0041 - accuracy: 1.0000 - val_loss: 0.4919 - val_accuracy: 0.8849\n",
                        "Epoch 44/100\n",
                        "5/5 [==============================] - 0s 9ms/step - loss: 0.0038 - accuracy: 1.0000 - val_loss: 0.4997 - val_accuracy: 0.8810\n",
                        "Epoch 45/100\n",
                        "5/5 [==============================] - 0s 10ms/step - loss: 0.0036 - accuracy: 1.0000 - val_loss: 0.5074 - val_accuracy: 0.8889\n",
                        "Epoch 46/100\n",
                        "5/5 [==============================] - 0s 13ms/step - loss: 0.0033 - accuracy: 1.0000 - val_loss: 0.5239 - val_accuracy: 0.8849\n",
                        "Epoch 47/100\n",
                        "5/5 [==============================] - 0s 9ms/step - loss: 0.0031 - accuracy: 1.0000 - val_loss: 0.5160 - val_accuracy: 0.8929\n",
                        "Epoch 48/100\n",
                        "5/5 [==============================] - 0s 9ms/step - loss: 0.0029 - accuracy: 1.0000 - val_loss: 0.5284 - val_accuracy: 0.8889\n",
                        "Epoch 49/100\n",
                        "5/5 [==============================] - 0s 9ms/step - loss: 0.0027 - accuracy: 1.0000 - val_loss: 0.5325 - val_accuracy: 0.8889\n",
                        "Epoch 50/100\n",
                        "5/5 [==============================] - 0s 9ms/step - loss: 0.0026 - accuracy: 1.0000 - val_loss: 0.5373 - val_accuracy: 0.8889\n",
                        "Epoch 51/100\n",
                        "5/5 [==============================] - 0s 9ms/step - loss: 0.0025 - accuracy: 1.0000 - val_loss: 0.5445 - val_accuracy: 0.8849\n",
                        "Epoch 52/100\n",
                        "5/5 [==============================] - 0s 9ms/step - loss: 0.0024 - accuracy: 1.0000 - val_loss: 0.5358 - val_accuracy: 0.8889\n",
                        "Epoch 53/100\n",
                        "5/5 [==============================] - 0s 9ms/step - loss: 0.0022 - accuracy: 1.0000 - val_loss: 0.5562 - val_accuracy: 0.8849\n",
                        "Epoch 54/100\n",
                        "5/5 [==============================] - 0s 9ms/step - loss: 0.0021 - accuracy: 1.0000 - val_loss: 0.5530 - val_accuracy: 0.8849\n",
                        "Epoch 55/100\n",
                        "5/5 [==============================] - 0s 9ms/step - loss: 0.0020 - accuracy: 1.0000 - val_loss: 0.5529 - val_accuracy: 0.8849\n",
                        "Epoch 56/100\n",
                        "5/5 [==============================] - 0s 9ms/step - loss: 0.0019 - accuracy: 1.0000 - val_loss: 0.5610 - val_accuracy: 0.8810\n",
                        "Epoch 57/100\n",
                        "5/5 [==============================] - 0s 9ms/step - loss: 0.0018 - accuracy: 1.0000 - val_loss: 0.5619 - val_accuracy: 0.8849\n",
                        "Epoch 58/100\n",
                        "5/5 [==============================] - 0s 9ms/step - loss: 0.0017 - accuracy: 1.0000 - val_loss: 0.5661 - val_accuracy: 0.8849\n",
                        "Epoch 59/100\n",
                        "5/5 [==============================] - 0s 9ms/step - loss: 0.0016 - accuracy: 1.0000 - val_loss: 0.5685 - val_accuracy: 0.8849\n",
                        "Epoch 60/100\n",
                        "5/5 [==============================] - 0s 10ms/step - loss: 0.0016 - accuracy: 1.0000 - val_loss: 0.5734 - val_accuracy: 0.8849\n",
                        "Epoch 61/100\n",
                        "5/5 [==============================] - 0s 8ms/step - loss: 0.0015 - accuracy: 1.0000 - val_loss: 0.5714 - val_accuracy: 0.8849\n",
                        "Epoch 62/100\n",
                        "5/5 [==============================] - 0s 9ms/step - loss: 0.0015 - accuracy: 1.0000 - val_loss: 0.5752 - val_accuracy: 0.8849\n",
                        "Epoch 63/100\n",
                        "5/5 [==============================] - 0s 9ms/step - loss: 0.0014 - accuracy: 1.0000 - val_loss: 0.5911 - val_accuracy: 0.8810\n",
                        "Epoch 64/100\n",
                        "5/5 [==============================] - 0s 8ms/step - loss: 0.0013 - accuracy: 1.0000 - val_loss: 0.5803 - val_accuracy: 0.8849\n",
                        "Epoch 65/100\n",
                        "5/5 [==============================] - 0s 9ms/step - loss: 0.0013 - accuracy: 1.0000 - val_loss: 0.5819 - val_accuracy: 0.8849\n",
                        "Epoch 66/100\n",
                        "5/5 [==============================] - 0s 9ms/step - loss: 0.0012 - accuracy: 1.0000 - val_loss: 0.5913 - val_accuracy: 0.8810\n",
                        "Epoch 67/100\n",
                        "5/5 [==============================] - 0s 8ms/step - loss: 0.0012 - accuracy: 1.0000 - val_loss: 0.5916 - val_accuracy: 0.8849\n",
                        "Epoch 68/100\n",
                        "5/5 [==============================] - 0s 9ms/step - loss: 0.0012 - accuracy: 1.0000 - val_loss: 0.5906 - val_accuracy: 0.8889\n",
                        "Epoch 69/100\n",
                        "5/5 [==============================] - 0s 9ms/step - loss: 0.0011 - accuracy: 1.0000 - val_loss: 0.6040 - val_accuracy: 0.8849\n",
                        "Epoch 70/100\n",
                        "5/5 [==============================] - 0s 9ms/step - loss: 0.0011 - accuracy: 1.0000 - val_loss: 0.5968 - val_accuracy: 0.8889\n",
                        "Epoch 71/100\n",
                        "5/5 [==============================] - 0s 11ms/step - loss: 0.0010 - accuracy: 1.0000 - val_loss: 0.6022 - val_accuracy: 0.8889\n",
                        "Epoch 72/100\n",
                        "5/5 [==============================] - 0s 9ms/step - loss: 9.9203e-04 - accuracy: 1.0000 - val_loss: 0.6036 - val_accuracy: 0.8889\n",
                        "Epoch 73/100\n",
                        "5/5 [==============================] - 0s 8ms/step - loss: 9.6046e-04 - accuracy: 1.0000 - val_loss: 0.6096 - val_accuracy: 0.8929\n",
                        "Epoch 74/100\n",
                        "5/5 [==============================] - 0s 9ms/step - loss: 9.3646e-04 - accuracy: 1.0000 - val_loss: 0.6050 - val_accuracy: 0.8889\n",
                        "Epoch 75/100\n",
                        "5/5 [==============================] - 0s 8ms/step - loss: 8.9141e-04 - accuracy: 1.0000 - val_loss: 0.6167 - val_accuracy: 0.8929\n",
                        "Epoch 76/100\n",
                        "5/5 [==============================] - 0s 9ms/step - loss: 8.7591e-04 - accuracy: 1.0000 - val_loss: 0.6174 - val_accuracy: 0.8929\n",
                        "Epoch 77/100\n",
                        "5/5 [==============================] - 0s 8ms/step - loss: 8.2732e-04 - accuracy: 1.0000 - val_loss: 0.6114 - val_accuracy: 0.8889\n",
                        "Epoch 78/100\n",
                        "5/5 [==============================] - 0s 9ms/step - loss: 8.1270e-04 - accuracy: 1.0000 - val_loss: 0.6140 - val_accuracy: 0.8889\n",
                        "Epoch 79/100\n",
                        "5/5 [==============================] - 0s 9ms/step - loss: 7.8595e-04 - accuracy: 1.0000 - val_loss: 0.6268 - val_accuracy: 0.8929\n",
                        "Epoch 80/100\n",
                        "5/5 [==============================] - 0s 9ms/step - loss: 7.6110e-04 - accuracy: 1.0000 - val_loss: 0.6260 - val_accuracy: 0.8929\n",
                        "Epoch 81/100\n",
                        "5/5 [==============================] - 0s 9ms/step - loss: 7.3748e-04 - accuracy: 1.0000 - val_loss: 0.6264 - val_accuracy: 0.8929\n",
                        "Epoch 82/100\n",
                        "5/5 [==============================] - 0s 9ms/step - loss: 7.1259e-04 - accuracy: 1.0000 - val_loss: 0.6324 - val_accuracy: 0.8929\n",
                        "Epoch 83/100\n",
                        "5/5 [==============================] - 0s 9ms/step - loss: 6.9855e-04 - accuracy: 1.0000 - val_loss: 0.6354 - val_accuracy: 0.8929\n",
                        "Epoch 84/100\n",
                        "5/5 [==============================] - 0s 9ms/step - loss: 6.7198e-04 - accuracy: 1.0000 - val_loss: 0.6296 - val_accuracy: 0.8929\n",
                        "Epoch 85/100\n",
                        "5/5 [==============================] - 0s 10ms/step - loss: 6.5683e-04 - accuracy: 1.0000 - val_loss: 0.6323 - val_accuracy: 0.8929\n",
                        "Epoch 86/100\n",
                        "5/5 [==============================] - 0s 8ms/step - loss: 6.3891e-04 - accuracy: 1.0000 - val_loss: 0.6431 - val_accuracy: 0.8929\n",
                        "Epoch 87/100\n",
                        "5/5 [==============================] - 0s 9ms/step - loss: 6.1856e-04 - accuracy: 1.0000 - val_loss: 0.6419 - val_accuracy: 0.8929\n",
                        "Epoch 88/100\n",
                        "5/5 [==============================] - 0s 8ms/step - loss: 6.0248e-04 - accuracy: 1.0000 - val_loss: 0.6380 - val_accuracy: 0.8929\n",
                        "Epoch 89/100\n",
                        "5/5 [==============================] - 0s 9ms/step - loss: 5.8718e-04 - accuracy: 1.0000 - val_loss: 0.6451 - val_accuracy: 0.8929\n",
                        "Epoch 90/100\n",
                        "5/5 [==============================] - 0s 10ms/step - loss: 5.6848e-04 - accuracy: 1.0000 - val_loss: 0.6489 - val_accuracy: 0.8929\n",
                        "Epoch 91/100\n",
                        "5/5 [==============================] - 0s 10ms/step - loss: 5.5514e-04 - accuracy: 1.0000 - val_loss: 0.6507 - val_accuracy: 0.8929\n",
                        "Epoch 92/100\n",
                        "5/5 [==============================] - 0s 8ms/step - loss: 5.3888e-04 - accuracy: 1.0000 - val_loss: 0.6505 - val_accuracy: 0.8929\n",
                        "Epoch 93/100\n",
                        "5/5 [==============================] - 0s 10ms/step - loss: 5.2238e-04 - accuracy: 1.0000 - val_loss: 0.6536 - val_accuracy: 0.8929\n",
                        "Epoch 94/100\n",
                        "5/5 [==============================] - 0s 10ms/step - loss: 5.0924e-04 - accuracy: 1.0000 - val_loss: 0.6575 - val_accuracy: 0.8929\n",
                        "Epoch 95/100\n",
                        "5/5 [==============================] - 0s 9ms/step - loss: 4.9539e-04 - accuracy: 1.0000 - val_loss: 0.6598 - val_accuracy: 0.8929\n",
                        "Epoch 96/100\n",
                        "5/5 [==============================] - 0s 9ms/step - loss: 4.8138e-04 - accuracy: 1.0000 - val_loss: 0.6574 - val_accuracy: 0.8929\n",
                        "Epoch 97/100\n",
                        "5/5 [==============================] - 0s 8ms/step - loss: 4.6968e-04 - accuracy: 1.0000 - val_loss: 0.6633 - val_accuracy: 0.8929\n",
                        "Epoch 98/100\n",
                        "5/5 [==============================] - 0s 9ms/step - loss: 4.5775e-04 - accuracy: 1.0000 - val_loss: 0.6678 - val_accuracy: 0.8929\n",
                        "Epoch 99/100\n",
                        "5/5 [==============================] - 0s 8ms/step - loss: 4.4475e-04 - accuracy: 1.0000 - val_loss: 0.6632 - val_accuracy: 0.8929\n",
                        "Epoch 100/100\n",
                        "5/5 [==============================] - 0s 8ms/step - loss: 4.3474e-04 - accuracy: 1.0000 - val_loss: 0.6669 - val_accuracy: 0.8929\n"
                    ]
                }
            ],
            "source": [
                "history = NN_model.fit(X_train, y_train, epochs=100, batch_size=128, verbose=1, validation_split=0.3)"
            ]
        },
        {
            "cell_type": "code",
            "execution_count": 163,
            "metadata": {},
            "outputs": [
                {
                    "data": {
                        "text/plain": [
                            "dict_keys(['loss', 'accuracy', 'val_loss', 'val_accuracy'])"
                        ]
                    },
                    "execution_count": 163,
                    "metadata": {},
                    "output_type": "execute_result"
                }
            ],
            "source": [
                "history.history.keys()"
            ]
        },
        {
            "cell_type": "code",
            "execution_count": 164,
            "metadata": {},
            "outputs": [
                {
                    "data": {
                        "image/png": "[encoded data removed]",
                        "text/plain": [
                            "<Figure size 720x540 with 1 Axes>"
                        ]
                    },
                    "metadata": {
                        "needs_background": "light"
                    },
                    "output_type": "display_data"
                }
            ],
            "source": [
                "# Plot the training accuracy and validation accuracy\n",
                "plt.rcParams[\"figure.figsize\"] = (10,7.5)\n",
                "\n",
                "plt.plot(history.history['accuracy'], label='Accuracy', markersize=15, color='blue',  linewidth=2)\n",
                "plt.plot(history.history['val_accuracy'], label='Val_accuracy', markersize=15, color='green',  linewidth=2)\n",
                "\n",
                "\n",
                "plt.xlabel('X_train')\n",
                "plt.ylabel('Y_train')\n",
                "plt.title(\"model_overfit\")\n",
                "plt.legend()\n",
                "plt.show()"
            ]
        },
        {
            "cell_type": "code",
            "execution_count": 165,
            "metadata": {},
            "outputs": [
                {
                    "name": "stdout",
                    "output_type": "stream",
                    "text": [
                        "loss >>>> 0.00043474207632243633\n",
                        "accuracy >>>> 1.0\n",
                        "val_loss >>>> 0.666904091835022\n",
                        "val_accuracy >>>> 0.8928571343421936\n",
                        "Iternation: >>>> 100\n"
                    ]
                }
            ],
            "source": [
                "for i in history.history.keys():\n",
                "    print(i, \">>>>\", history.history[i][-1])\n",
                "\n",
                "print(\"Iternation: >>>>\", len(history.history[\"loss\"]))"
            ]
        },
        {
            "attachments": {},
            "cell_type": "markdown",
            "metadata": {},
            "source": [
                "**INTERPRETATION:**"
            ]
        },
        {
            "attachments": {},
            "cell_type": "markdown",
            "metadata": {},
            "source": [
                "*your answer here*"
            ]
        },
        {
            "attachments": {},
            "cell_type": "markdown",
            "metadata": {},
            "source": [
                "<div class='exercise-r'>\n",
                "\n",
                "**2.1.3** \n",
                "\n",
                "**2.1.3.1**\n",
                "    \n",
                "</div>"
            ]
        },
        {
            "cell_type": "code",
            "execution_count": 327,
            "metadata": {},
            "outputs": [],
            "source": [
                "callback = tf.keras.callbacks.EarlyStopping(monitor='val_loss', patience=2) \n",
                "\n",
                "#creating a Sequential model\n",
                "NN_model = tf.keras.models.Sequential()\n",
                "\n",
                "NN_model.add(tf.keras.layers.Dense(100, input_dim=df_train.shape[1]-1, activation='relu'))\n",
                "\n",
                "NN_model.add(tf.keras.layers.Dense(100, activation='relu', kernel_regularizer= tf.keras.regularizers.L2(0.01)))\n",
                "\n",
                "NN_model.add(tf.keras.layers.Dense(100, activation='relu'))\n",
                "NN_model.add(tf.keras.layers.Dropout(0.1))\n",
                "NN_model.add(tf.keras.layers.BatchNormalization())\n",
                "\n",
                "NN_model.add(tf.keras.layers.Dense(1, activation='sigmoid'))\n",
                "\n",
                "# Compiling the mode with binary_crossentropy\n",
                "NN_model.compile(loss='binary_crossentropy', optimizer='adam', metrics=['accuracy'])"
            ]
        },
        {
            "cell_type": "code",
            "execution_count": 320,
            "metadata": {},
            "outputs": [
                {
                    "name": "stdout",
                    "output_type": "stream",
                    "text": [
                        "Model: \"sequential_54\"\n",
                        "_________________________________________________________________\n",
                        " Layer (type)                Output Shape              Param #   \n",
                        "=================================================================\n",
                        " dense_213 (Dense)           (None, 100)               78500     \n",
                        "                                                                 \n",
                        " dense_214 (Dense)           (None, 100)               10100     \n",
                        "                                                                 \n",
                        " dense_215 (Dense)           (None, 100)               10100     \n",
                        "                                                                 \n",
                        " dropout_84 (Dropout)        (None, 100)               0         \n",
                        "                                                                 \n",
                        " batch_normalization_131 (Ba  (None, 100)              400       \n",
                        " tchNormalization)                                               \n",
                        "                                                                 \n",
                        " dense_216 (Dense)           (None, 1)                 101       \n",
                        "                                                                 \n",
                        "=================================================================\n",
                        "Total params: 99,201\n",
                        "Trainable params: 99,001\n",
                        "Non-trainable params: 200\n",
                        "_________________________________________________________________\n"
                    ]
                }
            ],
            "source": [
                "NN_model.summary()"
            ]
        },
        {
            "cell_type": "code",
            "execution_count": 328,
            "metadata": {},
            "outputs": [
                {
                    "name": "stdout",
                    "output_type": "stream",
                    "text": [
                        "Epoch 1/100\n",
                        "7/7 [==============================] - 1s 38ms/step - loss: 1.6874 - accuracy: 0.5571 - val_loss: 6.5504 - val_accuracy: 0.5417\n",
                        "Epoch 2/100\n",
                        "7/7 [==============================] - 0s 9ms/step - loss: 1.3936 - accuracy: 0.7714 - val_loss: 6.3890 - val_accuracy: 0.5417\n",
                        "Epoch 3/100\n",
                        "7/7 [==============================] - 0s 9ms/step - loss: 1.2381 - accuracy: 0.8560 - val_loss: 4.6811 - val_accuracy: 0.5417\n",
                        "Epoch 4/100\n",
                        "7/7 [==============================] - 0s 8ms/step - loss: 1.0932 - accuracy: 0.9036 - val_loss: 3.3987 - val_accuracy: 0.5500\n",
                        "Epoch 5/100\n",
                        "7/7 [==============================] - 0s 9ms/step - loss: 0.9893 - accuracy: 0.9226 - val_loss: 1.8163 - val_accuracy: 0.6694\n",
                        "Epoch 6/100\n",
                        "7/7 [==============================] - 0s 8ms/step - loss: 0.9134 - accuracy: 0.9381 - val_loss: 1.5689 - val_accuracy: 0.7417\n",
                        "Epoch 7/100\n",
                        "7/7 [==============================] - 0s 8ms/step - loss: 0.8237 - accuracy: 0.9631 - val_loss: 1.4168 - val_accuracy: 0.7583\n",
                        "Epoch 8/100\n",
                        "7/7 [==============================] - 0s 8ms/step - loss: 0.7640 - accuracy: 0.9655 - val_loss: 1.4508 - val_accuracy: 0.7583\n",
                        "Epoch 9/100\n",
                        "7/7 [==============================] - 0s 16ms/step - loss: 0.7069 - accuracy: 0.9738 - val_loss: 0.9294 - val_accuracy: 0.8778\n",
                        "Epoch 10/100\n",
                        "7/7 [==============================] - 0s 11ms/step - loss: 0.6498 - accuracy: 0.9845 - val_loss: 0.9766 - val_accuracy: 0.8472\n",
                        "Epoch 11/100\n",
                        "7/7 [==============================] - 0s 8ms/step - loss: 0.5993 - accuracy: 0.9964 - val_loss: 0.8133 - val_accuracy: 0.9083\n",
                        "Epoch 12/100\n",
                        "7/7 [==============================] - 0s 8ms/step - loss: 0.5623 - accuracy: 0.9929 - val_loss: 0.8079 - val_accuracy: 0.8917\n",
                        "Epoch 13/100\n",
                        "7/7 [==============================] - 0s 8ms/step - loss: 0.5279 - accuracy: 0.9964 - val_loss: 0.7363 - val_accuracy: 0.9139\n",
                        "Epoch 14/100\n",
                        "7/7 [==============================] - 0s 8ms/step - loss: 0.4949 - accuracy: 0.9964 - val_loss: 0.7271 - val_accuracy: 0.9056\n",
                        "Epoch 15/100\n",
                        "7/7 [==============================] - 0s 12ms/step - loss: 0.4663 - accuracy: 1.0000 - val_loss: 0.6989 - val_accuracy: 0.9194\n",
                        "Epoch 16/100\n",
                        "7/7 [==============================] - 0s 8ms/step - loss: 0.4386 - accuracy: 0.9988 - val_loss: 0.6985 - val_accuracy: 0.8944\n",
                        "Epoch 17/100\n",
                        "7/7 [==============================] - 0s 8ms/step - loss: 0.4149 - accuracy: 1.0000 - val_loss: 0.6731 - val_accuracy: 0.9167\n",
                        "Epoch 18/100\n",
                        "7/7 [==============================] - 0s 8ms/step - loss: 0.3946 - accuracy: 1.0000 - val_loss: 0.6229 - val_accuracy: 0.9167\n",
                        "Epoch 19/100\n",
                        "7/7 [==============================] - 0s 8ms/step - loss: 0.3723 - accuracy: 1.0000 - val_loss: 0.6379 - val_accuracy: 0.9194\n",
                        "Epoch 20/100\n",
                        "7/7 [==============================] - 0s 7ms/step - loss: 0.3553 - accuracy: 1.0000 - val_loss: 0.5910 - val_accuracy: 0.9167\n",
                        "Epoch 21/100\n",
                        "7/7 [==============================] - 0s 7ms/step - loss: 0.3380 - accuracy: 1.0000 - val_loss: 0.5865 - val_accuracy: 0.9167\n",
                        "Epoch 22/100\n",
                        "7/7 [==============================] - 0s 8ms/step - loss: 0.3214 - accuracy: 1.0000 - val_loss: 0.5739 - val_accuracy: 0.9139\n",
                        "Epoch 23/100\n",
                        "7/7 [==============================] - 0s 8ms/step - loss: 0.3084 - accuracy: 1.0000 - val_loss: 0.5554 - val_accuracy: 0.9139\n",
                        "Epoch 24/100\n",
                        "7/7 [==============================] - 0s 7ms/step - loss: 0.2929 - accuracy: 1.0000 - val_loss: 0.5397 - val_accuracy: 0.9167\n",
                        "Epoch 25/100\n",
                        "7/7 [==============================] - 0s 8ms/step - loss: 0.2812 - accuracy: 1.0000 - val_loss: 0.5412 - val_accuracy: 0.9222\n",
                        "Epoch 26/100\n",
                        "7/7 [==============================] - 0s 8ms/step - loss: 0.2669 - accuracy: 1.0000 - val_loss: 0.5412 - val_accuracy: 0.9222\n"
                    ]
                }
            ],
            "source": [
                "history_reg_overfit = NN_model.fit(X_train, y_train, epochs=100, batch_size=128, verbose=1,validation_data=(X_test,y_test), validation_split=0.3,callbacks = [callback])"
            ]
        },
        {
            "attachments": {},
            "cell_type": "markdown",
            "metadata": {},
            "source": [
                "<div class='exercise-r'>\n",
                "\n",
                "**2.1.3.2**\n",
                "    \n",
                "</div>"
            ]
        },
        {
            "cell_type": "code",
            "execution_count": 330,
            "metadata": {},
            "outputs": [
                {
                    "name": "stdout",
                    "output_type": "stream",
                    "text": [
                        "The training_accuracy : 1.0\n",
                        "Validation_accuracy: 0.9222221970558167\n",
                        "The difference is 0.0778\n"
                    ]
                }
            ],
            "source": [
                "train_acc = history_reg_overfit.history[\"accuracy\"][-1]\n",
                "val_acc = history_reg_overfit.history[\"val_accuracy\"][-1]\n",
                "\n",
                "print(f\"The training_accuracy : {train_acc}\")\n",
                "print(f\"Validation_accuracy: {val_acc}\")\n",
                "print(f\"The difference is {np.abs(train_acc - val_acc):.4f}\")"
            ]
        },
        {
            "cell_type": "code",
            "execution_count": 80,
            "metadata": {},
            "outputs": [
                {
                    "name": "stdout",
                    "output_type": "stream",
                    "text": [
                        "38/38 [==============================] - 0s 1ms/step\n",
                        "NN_model_train_auc: 0.9963505070362224\n",
                        "38/38 [==============================] - 0s 1ms/step\n",
                        "NN_model_test_auc: 0.9963505070362224\n"
                    ]
                }
            ],
            "source": [
                "# your code here\n",
                "#print(\"NN_model_train_auc:\", roc_auc_score(df.iloc[:,-1], NN_model.predict(df.iloc[:,:-1]/255.0)))\n",
                "\n",
                "#print(\"NN_model_test_auc:\", roc_auc_score(df.iloc[:,-1], NN_model.predict(df.iloc[:,:-1]/255.0)))"
            ]
        },
        {
            "attachments": {},
            "cell_type": "markdown",
            "metadata": {},
            "source": [
                "<div class='exercise-r'>\n",
                "\n",
                "**2.1.3.3**\n",
                "    \n",
                "</div>"
            ]
        },
        {
            "cell_type": "code",
            "execution_count": 331,
            "metadata": {},
            "outputs": [
                {
                    "data": {
                        "image/png": "[encoded data removed]",
                        "text/plain": [
                            "<Figure size 720x540 with 1 Axes>"
                        ]
                    },
                    "metadata": {
                        "needs_background": "light"
                    },
                    "output_type": "display_data"
                }
            ],
            "source": [
                "# Plot the training accuracy and validation accuracy\n",
                "plt.rcParams[\"figure.figsize\"] = (10,7.5)\n",
                "\n",
                "plt.plot(history_reg_overfit.history['accuracy'], label='Accuracy', markersize=15, color='blue',  linewidth=2)\n",
                "plt.plot(history_reg_overfit.history['val_accuracy'], label='Val_accuracy', markersize=15, color='green',  linewidth=2)\n",
                "\n",
                "\n",
                "plt.xlabel('X')\n",
                "plt.ylabel('Y')\n",
                "plt.title(\"Training_accuracy\")\n",
                "plt.legend()\n",
                "plt.show()"
            ]
        },
        {
            "cell_type": "code",
            "execution_count": 337,
            "metadata": {},
            "outputs": [
                {
                    "data": {
                        "image/png": "[encoded data removed]",
                        "text/plain": [
                            "<Figure size 720x540 with 1 Axes>"
                        ]
                    },
                    "metadata": {
                        "needs_background": "light"
                    },
                    "output_type": "display_data"
                }
            ],
            "source": [
                "plt.rcParams[\"figure.figsize\"] = (10,7.5)\n",
                "\n",
                "plt.plot(history_reg_overfit.history['loss'], label='loss', markersize=15, color='orange',  linewidth=2)\n",
                "plt.plot(history_reg_overfit.history['val_loss'], label='Val_loss', markersize=15, color='red',  linewidth=2)\n",
                "\n",
                "\n",
                "plt.xlabel('X')\n",
                "plt.ylabel('Y')\n",
                "plt.title(\"validation_accuracy\")\n",
                "plt.legend()\n",
                "plt.show()"
            ]
        },
        {
            "attachments": {},
            "cell_type": "markdown",
            "metadata": {},
            "source": [
                "<div class='exercise-r'>\n",
                "\n",
                "**2.1.3.4**\n",
                "    \n",
                "</div>"
            ]
        },
        {
            "cell_type": "code",
            "execution_count": 341,
            "metadata": {},
            "outputs": [
                {
                    "name": "stdout",
                    "output_type": "stream",
                    "text": [
                        "27/27 [==============================] - 0s 2ms/step - loss: 0.2634 - accuracy: 1.0000\n",
                        "12/12 [==============================] - 0s 2ms/step - loss: 0.5412 - accuracy: 0.9222\n"
                    ]
                }
            ],
            "source": [
                "train_metric = NN_model.evaluate(X_train,y_train,batch_size=32)\n",
                "vald_metric = NN_model.evaluate(X_test,y_test,batch_size=32)"
            ]
        },
        {
            "cell_type": "code",
            "execution_count": 360,
            "metadata": {},
            "outputs": [
                {
                    "name": "stdout",
                    "output_type": "stream",
                    "text": [
                        "1/1 [==============================] - 0s 19ms/step\n"
                    ]
                },
                {
                    "data": {
                        "text/html": [
                            "<div>\n",
                            "<style scoped>\n",
                            "    .dataframe tbody tr th:only-of-type {\n",
                            "        vertical-align: middle;\n",
                            "    }\n",
                            "\n",
                            "    .dataframe tbody tr th {\n",
                            "        vertical-align: top;\n",
                            "    }\n",
                            "\n",
                            "    .dataframe thead th {\n",
                            "        text-align: right;\n",
                            "    }\n",
                            "</style>\n",
                            "<table border=\"1\" class=\"dataframe\">\n",
                            "  <thead>\n",
                            "    <tr style=\"text-align: right;\">\n",
                            "      <th></th>\n",
                            "      <th>Preditions</th>\n",
                            "    </tr>\n",
                            "  </thead>\n",
                            "  <tbody>\n",
                            "    <tr>\n",
                            "      <th>0</th>\n",
                            "      <td>0.948947</td>\n",
                            "    </tr>\n",
                            "  </tbody>\n",
                            "</table>\n",
                            "</div>"
                        ],
                        "text/plain": [
                            "   Preditions\n",
                            "0    0.948947"
                        ]
                    },
                    "execution_count": 360,
                    "metadata": {},
                    "output_type": "execute_result"
                }
            ],
            "source": [
                "pred = NN_model.predict(df_test[:1]/255.0)\n",
                "pred = pd.DataFrame(data= pred, columns=[\"Preditions\"])\n",
                "pred"
            ]
        },
        {
            "cell_type": "code",
            "execution_count": 359,
            "metadata": {
                "collapsed": true
            },
            "outputs": [],
            "source": [
                "# your code here\n",
                "pd.DataFrame(pred.astype(int)).to_csv('submission_file.csv', index=True)"
            ]
        },
        {
            "attachments": {},
            "cell_type": "markdown",
            "metadata": {},
            "source": [
                "<div class='exercise-r'>\n",
                "\n",
                "**2.1.3.5**\n",
                "    \n",
                "</div>"
            ]
        },
        {
            "attachments": {},
            "cell_type": "markdown",
            "metadata": {},
            "source": [
                "**YOUR KAGGLE LEADERBOARD NAME:**"
            ]
        },
        {
            "attachments": {},
            "cell_type": "markdown",
            "metadata": {},
            "source": [
                "*your answer here*"
            ]
        },
        {
            "attachments": {},
            "cell_type": "markdown",
            "metadata": {},
            "source": [
                "<div class=\"alert alert-block alert-danger\" style=\"color:black;background-color:#E7F4FA\">\n",
                "\n",
                "<h1>PART 2.2 [30points]: KMNIST Classification using CNNs</h1>\n",
                "\n",
                "[Return to contents](#contents)\n",
                "\n",
                "In this part of Homework, you will now contruct a CNN-based model in order to best classify the Kannada MNIST dataset.\n",
                "\n",
                "**2.2.1 [5 points]** Examine the dataset and prepare the data by appropriately standardizing, reshaping and type-checking. \n",
                "\n",
                "**2.2.2 [20 points]** Construct a simple CNN model - with not more than 10 layers. Please ensure that you use the following layers/parameters in order to contruct the model -\n",
                "1. Maxpooling\n",
                "2. Dense layers\n",
                "3. Regularization methods such as Adam, Drop out, Batch Normalization etc. \n",
                "\n",
                "**2.2.3 [5 points]** Perform error analysis on the predictions of your model and report classification accuracy. This should also include loss plots that allow for comparision of the model performance across the epochs. Conclusively, provide a detailed inference of why certain misclassifications would have taken place.\n",
                "\n",
                "\n",
                "\n",
                "</div>"
            ]
        },
        {
            "attachments": {},
            "cell_type": "markdown",
            "metadata": {},
            "source": [
                "<a id=\"part2.2solutions\"></a>\n",
                "\n",
                "\n",
                "## PART 2.2 Solutions\n",
                "\n",
                "[Return to contents](#contents)\n"
            ]
        },
        {
            "attachments": {},
            "cell_type": "markdown",
            "metadata": {},
            "source": [
                "**2.2.1**"
            ]
        },
        {
            "cell_type": "code",
            "execution_count": 366,
            "metadata": {},
            "outputs": [],
            "source": [
                "#your code here\n",
                "#  prepare the data by appropriately standardizing, reshaping and type-checking\n",
                "df_train = pd.read_csv('ai2-cohort-5-homework-contest/kmnist_train.csv/kmnist_train.csv')\n",
                "df_test = pd.read_csv('ai2-cohort-5-homework-contest/kmnist_test.csv/kmnist_test.csv')"
            ]
        },
        {
            "attachments": {},
            "cell_type": "markdown",
            "metadata": {},
            "source": [
                "**2.2.2**"
            ]
        },
        {
            "cell_type": "code",
            "execution_count": 374,
            "metadata": {},
            "outputs": [
                {
                    "name": "stdout",
                    "output_type": "stream",
                    "text": [
                        "Model: \"sequential_60\"\n",
                        "_________________________________________________________________\n",
                        " Layer (type)                Output Shape              Param #   \n",
                        "=================================================================\n",
                        " conv2d_6 (Conv2D)           (None, 26, 26, 32)        320       \n",
                        "                                                                 \n",
                        " max_pooling2d_6 (MaxPooling  (None, 13, 13, 32)       0         \n",
                        " 2D)                                                             \n",
                        "                                                                 \n",
                        " conv2d_7 (Conv2D)           (None, 11, 11, 64)        18496     \n",
                        "                                                                 \n",
                        " max_pooling2d_7 (MaxPooling  (None, 5, 5, 64)         0         \n",
                        " 2D)                                                             \n",
                        "                                                                 \n",
                        " conv2d_8 (Conv2D)           (None, 3, 3, 128)         73856     \n",
                        "                                                                 \n",
                        " max_pooling2d_8 (MaxPooling  (None, 1, 1, 128)        0         \n",
                        " 2D)                                                             \n",
                        "                                                                 \n",
                        " flatten_2 (Flatten)         (None, 128)               0         \n",
                        "                                                                 \n",
                        " batch_normalization_137 (Ba  (None, 128)              512       \n",
                        " tchNormalization)                                               \n",
                        "                                                                 \n",
                        " dense_233 (Dense)           (None, 128)               16512     \n",
                        "                                                                 \n",
                        " dense_234 (Dense)           (None, 1)                 129       \n",
                        "                                                                 \n",
                        "=================================================================\n",
                        "Total params: 109,825\n",
                        "Trainable params: 109,569\n",
                        "Non-trainable params: 256\n",
                        "_________________________________________________________________\n"
                    ]
                }
            ],
            "source": [
                "#your code here\n",
                "'''\n",
                "Construct a simple CNN model - with not more than 10 layers. Please ensure that you use the following layers/parameters in order to contruct the model -\n",
                "\n",
                "Maxpooling\n",
                "Dense layers\n",
                "Regularization methods such as Adam, Drop out, Batch Normalization etc.\n",
                "'''\n",
                "\n",
                "CNN_model = tf.keras.models.Sequential()\n",
                "CNN_model.add(tf.keras.layers.Conv2D(32, kernel_size=(3, 3), activation='relu', input_shape=(28,28,1)))\n",
                "\n",
                "# Add more regulaization layers as well\n",
                "CNN_model.add(tf.keras.layers.MaxPooling2D(pool_size=(2, 2)))\n",
                "CNN_model.add(tf.keras.layers.Conv2D(64, kernel_size=(3, 3), activation='relu'))\n",
                "CNN_model.add(tf.keras.layers.MaxPooling2D(pool_size=(2, 2)))\n",
                "CNN_model.add(tf.keras.layers.Conv2D(128, kernel_size=(3, 3), activation='relu'))\n",
                "CNN_model.add(tf.keras.layers.MaxPooling2D(pool_size=(2, 2)))\n",
                "CNN_model.add(tf.keras.layers.Flatten())\n",
                "CNN_model.add(tf.keras.layers.BatchNormalization())\n",
                "CNN_model.add(tf.keras.layers.Dense(128, activation='relu'))\n",
                "CNN_model.add(tf.keras.layers.Dense(1, activation='sigmoid'))\n",
                "\n",
                "#binary cross entropy\n",
                "CNN_model.compile(loss='binary_crossentropy', optimizer='adam', metrics=['accuracy'])\n",
                "CNN_model.summary()"
            ]
        },
        {
            "cell_type": "code",
            "execution_count": 375,
            "metadata": {},
            "outputs": [],
            "source": [
                "#prepare the train data for the above neural network\n",
                "X = df_train.iloc[:,:-1].values.reshape(-1,28,28,1)\n",
                "y = df_train.iloc[:,-1].values.astype('float32').reshape((-1,1))"
            ]
        },
        {
            "cell_type": "code",
            "execution_count": 376,
            "metadata": {},
            "outputs": [
                {
                    "name": "stdout",
                    "output_type": "stream",
                    "text": [
                        "Epoch 1/100\n",
                        "7/7 [==============================] - 1s 85ms/step - loss: 0.6457 - accuracy: 0.6429 - val_loss: 6.8797 - val_accuracy: 0.4944\n",
                        "Epoch 2/100\n",
                        "7/7 [==============================] - 0s 55ms/step - loss: 0.4735 - accuracy: 0.7881 - val_loss: 5.0292 - val_accuracy: 0.4944\n",
                        "Epoch 3/100\n",
                        "7/7 [==============================] - 0s 56ms/step - loss: 0.3698 - accuracy: 0.8845 - val_loss: 5.9714 - val_accuracy: 0.4944\n",
                        "Epoch 4/100\n",
                        "7/7 [==============================] - 0s 53ms/step - loss: 0.2657 - accuracy: 0.9238 - val_loss: 1.6275 - val_accuracy: 0.4972\n",
                        "Epoch 5/100\n",
                        "7/7 [==============================] - 0s 54ms/step - loss: 0.1786 - accuracy: 0.9583 - val_loss: 2.8861 - val_accuracy: 0.4944\n",
                        "Epoch 6/100\n",
                        "7/7 [==============================] - 0s 55ms/step - loss: 0.1173 - accuracy: 0.9786 - val_loss: 2.4927 - val_accuracy: 0.5000\n",
                        "Epoch 7/100\n",
                        "7/7 [==============================] - 0s 54ms/step - loss: 0.0771 - accuracy: 0.9881 - val_loss: 0.5118 - val_accuracy: 0.7833\n",
                        "Epoch 8/100\n",
                        "7/7 [==============================] - 0s 58ms/step - loss: 0.0384 - accuracy: 0.9988 - val_loss: 1.8862 - val_accuracy: 0.5167\n",
                        "Epoch 9/100\n",
                        "7/7 [==============================] - 0s 60ms/step - loss: 0.0196 - accuracy: 1.0000 - val_loss: 0.6461 - val_accuracy: 0.7417\n",
                        "Epoch 10/100\n",
                        "7/7 [==============================] - 0s 60ms/step - loss: 0.0139 - accuracy: 1.0000 - val_loss: 1.7952 - val_accuracy: 0.5333\n",
                        "Epoch 11/100\n",
                        "7/7 [==============================] - 0s 69ms/step - loss: 0.0075 - accuracy: 1.0000 - val_loss: 0.8289 - val_accuracy: 0.7000\n",
                        "Epoch 12/100\n",
                        "7/7 [==============================] - 0s 61ms/step - loss: 0.0055 - accuracy: 1.0000 - val_loss: 0.3946 - val_accuracy: 0.8306\n",
                        "Epoch 13/100\n",
                        "7/7 [==============================] - 0s 63ms/step - loss: 0.0043 - accuracy: 1.0000 - val_loss: 0.8945 - val_accuracy: 0.7111\n",
                        "Epoch 14/100\n",
                        "7/7 [==============================] - 0s 54ms/step - loss: 0.0032 - accuracy: 1.0000 - val_loss: 0.7570 - val_accuracy: 0.7306\n",
                        "Epoch 15/100\n",
                        "7/7 [==============================] - 0s 51ms/step - loss: 0.0026 - accuracy: 1.0000 - val_loss: 0.5009 - val_accuracy: 0.7917\n",
                        "Epoch 16/100\n",
                        "7/7 [==============================] - 0s 53ms/step - loss: 0.0020 - accuracy: 1.0000 - val_loss: 0.5795 - val_accuracy: 0.7833\n",
                        "Epoch 17/100\n",
                        "7/7 [==============================] - 0s 53ms/step - loss: 0.0019 - accuracy: 1.0000 - val_loss: 0.6179 - val_accuracy: 0.7778\n",
                        "Epoch 18/100\n",
                        "7/7 [==============================] - 0s 54ms/step - loss: 0.0015 - accuracy: 1.0000 - val_loss: 0.4608 - val_accuracy: 0.8111\n",
                        "Epoch 19/100\n",
                        "7/7 [==============================] - 0s 56ms/step - loss: 0.0014 - accuracy: 1.0000 - val_loss: 0.4439 - val_accuracy: 0.8278\n",
                        "Epoch 20/100\n",
                        "7/7 [==============================] - 0s 58ms/step - loss: 0.0013 - accuracy: 1.0000 - val_loss: 0.4512 - val_accuracy: 0.8306\n",
                        "Epoch 21/100\n",
                        "7/7 [==============================] - 0s 53ms/step - loss: 0.0013 - accuracy: 1.0000 - val_loss: 0.4011 - val_accuracy: 0.8389\n",
                        "Epoch 22/100\n",
                        "7/7 [==============================] - 0s 51ms/step - loss: 0.0010 - accuracy: 1.0000 - val_loss: 0.3919 - val_accuracy: 0.8500\n",
                        "Epoch 23/100\n",
                        "7/7 [==============================] - 0s 51ms/step - loss: 9.1900e-04 - accuracy: 1.0000 - val_loss: 0.3969 - val_accuracy: 0.8472\n",
                        "Epoch 24/100\n",
                        "7/7 [==============================] - 0s 52ms/step - loss: 8.5912e-04 - accuracy: 1.0000 - val_loss: 0.3800 - val_accuracy: 0.8611\n",
                        "Epoch 25/100\n",
                        "7/7 [==============================] - 0s 50ms/step - loss: 7.4397e-04 - accuracy: 1.0000 - val_loss: 0.3527 - val_accuracy: 0.8750\n",
                        "Epoch 26/100\n",
                        "7/7 [==============================] - 0s 51ms/step - loss: 7.4127e-04 - accuracy: 1.0000 - val_loss: 0.3583 - val_accuracy: 0.8722\n",
                        "Epoch 27/100\n",
                        "7/7 [==============================] - 0s 51ms/step - loss: 8.7556e-04 - accuracy: 1.0000 - val_loss: 0.3546 - val_accuracy: 0.8833\n",
                        "Epoch 28/100\n",
                        "7/7 [==============================] - 0s 51ms/step - loss: 6.7659e-04 - accuracy: 1.0000 - val_loss: 0.3490 - val_accuracy: 0.8889\n",
                        "Epoch 29/100\n",
                        "7/7 [==============================] - 0s 52ms/step - loss: 5.9366e-04 - accuracy: 1.0000 - val_loss: 0.3526 - val_accuracy: 0.8750\n",
                        "Epoch 30/100\n",
                        "7/7 [==============================] - 0s 50ms/step - loss: 6.0327e-04 - accuracy: 1.0000 - val_loss: 0.3571 - val_accuracy: 0.8861\n",
                        "Epoch 31/100\n",
                        "7/7 [==============================] - 0s 51ms/step - loss: 6.8062e-04 - accuracy: 1.0000 - val_loss: 0.3536 - val_accuracy: 0.8944\n",
                        "Epoch 32/100\n",
                        "7/7 [==============================] - 0s 51ms/step - loss: 8.6474e-04 - accuracy: 1.0000 - val_loss: 0.3563 - val_accuracy: 0.8889\n",
                        "Epoch 33/100\n",
                        "7/7 [==============================] - 0s 50ms/step - loss: 4.6346e-04 - accuracy: 1.0000 - val_loss: 0.3583 - val_accuracy: 0.8861\n",
                        "Epoch 34/100\n",
                        "7/7 [==============================] - 0s 51ms/step - loss: 6.4785e-04 - accuracy: 1.0000 - val_loss: 0.3613 - val_accuracy: 0.8778\n",
                        "Epoch 35/100\n",
                        "7/7 [==============================] - 0s 51ms/step - loss: 6.4893e-04 - accuracy: 1.0000 - val_loss: 0.3591 - val_accuracy: 0.8944\n",
                        "Epoch 36/100\n",
                        "7/7 [==============================] - 0s 49ms/step - loss: 3.9761e-04 - accuracy: 1.0000 - val_loss: 0.3669 - val_accuracy: 0.8806\n",
                        "Epoch 37/100\n",
                        "7/7 [==============================] - 0s 50ms/step - loss: 4.0190e-04 - accuracy: 1.0000 - val_loss: 0.6420 - val_accuracy: 0.8250\n",
                        "Epoch 38/100\n",
                        "7/7 [==============================] - 0s 52ms/step - loss: 4.2040e-04 - accuracy: 1.0000 - val_loss: 1.0881 - val_accuracy: 0.7722\n",
                        "Epoch 39/100\n",
                        "7/7 [==============================] - 0s 49ms/step - loss: 3.2900e-04 - accuracy: 1.0000 - val_loss: 0.6526 - val_accuracy: 0.8278\n",
                        "Epoch 40/100\n",
                        "7/7 [==============================] - 0s 50ms/step - loss: 4.6719e-04 - accuracy: 1.0000 - val_loss: 0.5612 - val_accuracy: 0.8417\n",
                        "Epoch 41/100\n",
                        "7/7 [==============================] - 0s 58ms/step - loss: 2.7980e-04 - accuracy: 1.0000 - val_loss: 0.5082 - val_accuracy: 0.8583\n",
                        "Epoch 42/100\n",
                        "7/7 [==============================] - 0s 49ms/step - loss: 4.0743e-04 - accuracy: 1.0000 - val_loss: 0.4980 - val_accuracy: 0.8611\n",
                        "Epoch 43/100\n",
                        "7/7 [==============================] - 0s 50ms/step - loss: 2.5094e-04 - accuracy: 1.0000 - val_loss: 0.4398 - val_accuracy: 0.8889\n",
                        "Epoch 44/100\n",
                        "7/7 [==============================] - 0s 50ms/step - loss: 2.5587e-04 - accuracy: 1.0000 - val_loss: 0.4292 - val_accuracy: 0.8917\n",
                        "Epoch 45/100\n",
                        "7/7 [==============================] - 0s 49ms/step - loss: 2.6832e-04 - accuracy: 1.0000 - val_loss: 0.4253 - val_accuracy: 0.8917\n",
                        "Epoch 46/100\n",
                        "7/7 [==============================] - 0s 50ms/step - loss: 2.4757e-04 - accuracy: 1.0000 - val_loss: 0.4227 - val_accuracy: 0.8889\n",
                        "Epoch 47/100\n",
                        "7/7 [==============================] - 0s 50ms/step - loss: 2.3537e-04 - accuracy: 1.0000 - val_loss: 0.4200 - val_accuracy: 0.8861\n",
                        "Epoch 48/100\n",
                        "7/7 [==============================] - 0s 50ms/step - loss: 2.9231e-04 - accuracy: 1.0000 - val_loss: 0.4161 - val_accuracy: 0.8917\n",
                        "Epoch 49/100\n",
                        "7/7 [==============================] - 0s 51ms/step - loss: 1.9796e-04 - accuracy: 1.0000 - val_loss: 0.4160 - val_accuracy: 0.8944\n",
                        "Epoch 50/100\n",
                        "7/7 [==============================] - 0s 51ms/step - loss: 2.2540e-04 - accuracy: 1.0000 - val_loss: 0.4088 - val_accuracy: 0.8944\n",
                        "Epoch 51/100\n",
                        "7/7 [==============================] - 0s 50ms/step - loss: 1.6729e-04 - accuracy: 1.0000 - val_loss: 0.4037 - val_accuracy: 0.8944\n",
                        "Epoch 52/100\n",
                        "7/7 [==============================] - 0s 51ms/step - loss: 1.6993e-04 - accuracy: 1.0000 - val_loss: 0.4039 - val_accuracy: 0.8917\n",
                        "Epoch 53/100\n",
                        "7/7 [==============================] - 0s 50ms/step - loss: 1.5461e-04 - accuracy: 1.0000 - val_loss: 0.4074 - val_accuracy: 0.8972\n",
                        "Epoch 54/100\n",
                        "7/7 [==============================] - 0s 50ms/step - loss: 1.5185e-04 - accuracy: 1.0000 - val_loss: 0.4077 - val_accuracy: 0.9000\n",
                        "Epoch 55/100\n",
                        "7/7 [==============================] - 0s 50ms/step - loss: 1.9516e-04 - accuracy: 1.0000 - val_loss: 0.4026 - val_accuracy: 0.8972\n",
                        "Epoch 56/100\n",
                        "7/7 [==============================] - 0s 50ms/step - loss: 1.5488e-04 - accuracy: 1.0000 - val_loss: 0.4026 - val_accuracy: 0.9000\n",
                        "Epoch 57/100\n",
                        "7/7 [==============================] - 0s 51ms/step - loss: 1.2865e-04 - accuracy: 1.0000 - val_loss: 0.3978 - val_accuracy: 0.8972\n",
                        "Epoch 58/100\n",
                        "7/7 [==============================] - 0s 53ms/step - loss: 1.6947e-04 - accuracy: 1.0000 - val_loss: 0.4008 - val_accuracy: 0.9028\n",
                        "Epoch 59/100\n",
                        "7/7 [==============================] - 0s 60ms/step - loss: 1.3386e-04 - accuracy: 1.0000 - val_loss: 0.3973 - val_accuracy: 0.9028\n",
                        "Epoch 60/100\n",
                        "7/7 [==============================] - 0s 56ms/step - loss: 1.7704e-04 - accuracy: 1.0000 - val_loss: 0.3977 - val_accuracy: 0.9000\n",
                        "Epoch 61/100\n",
                        "7/7 [==============================] - 0s 55ms/step - loss: 1.6755e-04 - accuracy: 1.0000 - val_loss: 0.4104 - val_accuracy: 0.8917\n",
                        "Epoch 62/100\n",
                        "7/7 [==============================] - 0s 57ms/step - loss: 1.2840e-04 - accuracy: 1.0000 - val_loss: 0.4132 - val_accuracy: 0.8889\n",
                        "Epoch 63/100\n",
                        "7/7 [==============================] - 0s 56ms/step - loss: 1.1486e-04 - accuracy: 1.0000 - val_loss: 0.4038 - val_accuracy: 0.8889\n",
                        "Epoch 64/100\n",
                        "7/7 [==============================] - 0s 54ms/step - loss: 1.3964e-04 - accuracy: 1.0000 - val_loss: 0.3991 - val_accuracy: 0.8917\n",
                        "Epoch 65/100\n",
                        "7/7 [==============================] - 0s 54ms/step - loss: 1.1108e-04 - accuracy: 1.0000 - val_loss: 0.4020 - val_accuracy: 0.8889\n",
                        "Epoch 66/100\n",
                        "7/7 [==============================] - 0s 54ms/step - loss: 9.2056e-05 - accuracy: 1.0000 - val_loss: 0.3991 - val_accuracy: 0.8917\n",
                        "Epoch 67/100\n",
                        "7/7 [==============================] - 0s 54ms/step - loss: 1.1250e-04 - accuracy: 1.0000 - val_loss: 0.4014 - val_accuracy: 0.8861\n",
                        "Epoch 68/100\n",
                        "7/7 [==============================] - 0s 54ms/step - loss: 1.3535e-04 - accuracy: 1.0000 - val_loss: 0.4014 - val_accuracy: 0.8889\n",
                        "Epoch 69/100\n",
                        "7/7 [==============================] - 0s 54ms/step - loss: 8.3089e-05 - accuracy: 1.0000 - val_loss: 0.4053 - val_accuracy: 0.8806\n",
                        "Epoch 70/100\n",
                        "7/7 [==============================] - 0s 55ms/step - loss: 9.8699e-05 - accuracy: 1.0000 - val_loss: 0.4166 - val_accuracy: 0.8833\n",
                        "Epoch 71/100\n",
                        "7/7 [==============================] - 0s 58ms/step - loss: 1.3316e-04 - accuracy: 1.0000 - val_loss: 0.4309 - val_accuracy: 0.8778\n",
                        "Epoch 72/100\n",
                        "7/7 [==============================] - 0s 54ms/step - loss: 1.1157e-04 - accuracy: 1.0000 - val_loss: 0.4517 - val_accuracy: 0.8778\n",
                        "Epoch 73/100\n",
                        "7/7 [==============================] - 0s 54ms/step - loss: 7.8225e-05 - accuracy: 1.0000 - val_loss: 0.4377 - val_accuracy: 0.8806\n",
                        "Epoch 74/100\n",
                        "7/7 [==============================] - 0s 53ms/step - loss: 8.0996e-05 - accuracy: 1.0000 - val_loss: 0.4146 - val_accuracy: 0.8806\n",
                        "Epoch 75/100\n",
                        "7/7 [==============================] - 0s 57ms/step - loss: 8.4401e-05 - accuracy: 1.0000 - val_loss: 0.4063 - val_accuracy: 0.8833\n",
                        "Epoch 76/100\n",
                        "7/7 [==============================] - 0s 55ms/step - loss: 8.0551e-05 - accuracy: 1.0000 - val_loss: 0.3954 - val_accuracy: 0.8889\n",
                        "Epoch 77/100\n",
                        "7/7 [==============================] - 0s 54ms/step - loss: 7.1112e-05 - accuracy: 1.0000 - val_loss: 0.3949 - val_accuracy: 0.8889\n",
                        "Epoch 78/100\n",
                        "7/7 [==============================] - 0s 59ms/step - loss: 1.0109e-04 - accuracy: 1.0000 - val_loss: 0.4056 - val_accuracy: 0.8833\n",
                        "Epoch 79/100\n",
                        "7/7 [==============================] - 0s 58ms/step - loss: 6.3381e-05 - accuracy: 1.0000 - val_loss: 0.4151 - val_accuracy: 0.8806\n",
                        "Epoch 80/100\n",
                        "7/7 [==============================] - 0s 56ms/step - loss: 1.2066e-04 - accuracy: 1.0000 - val_loss: 0.4202 - val_accuracy: 0.8833\n",
                        "Epoch 81/100\n",
                        "7/7 [==============================] - 0s 60ms/step - loss: 8.1922e-05 - accuracy: 1.0000 - val_loss: 0.4169 - val_accuracy: 0.8806\n",
                        "Epoch 82/100\n",
                        "7/7 [==============================] - 0s 55ms/step - loss: 7.6288e-05 - accuracy: 1.0000 - val_loss: 0.4205 - val_accuracy: 0.8833\n",
                        "Epoch 83/100\n",
                        "7/7 [==============================] - 0s 56ms/step - loss: 5.4305e-05 - accuracy: 1.0000 - val_loss: 0.4164 - val_accuracy: 0.8806\n",
                        "Epoch 84/100\n",
                        "7/7 [==============================] - 0s 54ms/step - loss: 6.5737e-05 - accuracy: 1.0000 - val_loss: 0.4207 - val_accuracy: 0.8806\n",
                        "Epoch 85/100\n",
                        "7/7 [==============================] - 0s 53ms/step - loss: 6.6554e-05 - accuracy: 1.0000 - val_loss: 0.4150 - val_accuracy: 0.8861\n",
                        "Epoch 86/100\n",
                        "7/7 [==============================] - 0s 56ms/step - loss: 5.1954e-05 - accuracy: 1.0000 - val_loss: 0.4181 - val_accuracy: 0.8861\n",
                        "Epoch 87/100\n",
                        "7/7 [==============================] - 0s 53ms/step - loss: 5.4473e-05 - accuracy: 1.0000 - val_loss: 0.4233 - val_accuracy: 0.8861\n",
                        "Epoch 88/100\n",
                        "7/7 [==============================] - 0s 55ms/step - loss: 5.8940e-05 - accuracy: 1.0000 - val_loss: 0.4349 - val_accuracy: 0.8833\n",
                        "Epoch 89/100\n",
                        "7/7 [==============================] - 0s 55ms/step - loss: 5.0091e-05 - accuracy: 1.0000 - val_loss: 0.4409 - val_accuracy: 0.8833\n",
                        "Epoch 90/100\n",
                        "7/7 [==============================] - 0s 53ms/step - loss: 6.2425e-05 - accuracy: 1.0000 - val_loss: 0.4495 - val_accuracy: 0.8806\n",
                        "Epoch 91/100\n",
                        "7/7 [==============================] - 0s 56ms/step - loss: 4.4767e-05 - accuracy: 1.0000 - val_loss: 0.4535 - val_accuracy: 0.8806\n",
                        "Epoch 92/100\n",
                        "7/7 [==============================] - 0s 56ms/step - loss: 5.9623e-05 - accuracy: 1.0000 - val_loss: 0.4421 - val_accuracy: 0.8833\n",
                        "Epoch 93/100\n",
                        "7/7 [==============================] - 0s 55ms/step - loss: 4.8841e-05 - accuracy: 1.0000 - val_loss: 0.4333 - val_accuracy: 0.8889\n",
                        "Epoch 94/100\n",
                        "7/7 [==============================] - 0s 54ms/step - loss: 3.8201e-05 - accuracy: 1.0000 - val_loss: 0.4357 - val_accuracy: 0.8833\n",
                        "Epoch 95/100\n",
                        "7/7 [==============================] - 0s 54ms/step - loss: 4.7341e-05 - accuracy: 1.0000 - val_loss: 0.4344 - val_accuracy: 0.8833\n",
                        "Epoch 96/100\n",
                        "7/7 [==============================] - 0s 53ms/step - loss: 5.8533e-05 - accuracy: 1.0000 - val_loss: 0.4301 - val_accuracy: 0.8917\n",
                        "Epoch 97/100\n",
                        "7/7 [==============================] - 0s 54ms/step - loss: 4.0791e-05 - accuracy: 1.0000 - val_loss: 0.4324 - val_accuracy: 0.8861\n",
                        "Epoch 98/100\n",
                        "7/7 [==============================] - 0s 53ms/step - loss: 4.6013e-05 - accuracy: 1.0000 - val_loss: 0.4294 - val_accuracy: 0.8917\n",
                        "Epoch 99/100\n",
                        "7/7 [==============================] - 0s 55ms/step - loss: 4.8303e-05 - accuracy: 1.0000 - val_loss: 0.4369 - val_accuracy: 0.8833\n",
                        "Epoch 100/100\n",
                        "7/7 [==============================] - 0s 64ms/step - loss: 4.7333e-05 - accuracy: 1.0000 - val_loss: 0.4677 - val_accuracy: 0.8806\n"
                    ]
                }
            ],
            "source": [
                "history = CNN_model.fit(X, y, epochs=100, batch_size=128, verbose=1, validation_split=0.3)"
            ]
        },
        {
            "cell_type": "code",
            "execution_count": 365,
            "metadata": {},
            "outputs": [
                {
                    "data": {
                        "text/plain": [
                            "<matplotlib.legend.Legend at 0x1ee9a837550>"
                        ]
                    },
                    "execution_count": 365,
                    "metadata": {},
                    "output_type": "execute_result"
                },
                {
                    "data": {
                        "image/png": "[encoded data removed]",
                        "text/plain": [
                            "<Figure size 720x540 with 1 Axes>"
                        ]
                    },
                    "metadata": {
                        "needs_background": "light"
                    },
                    "output_type": "display_data"
                }
            ],
            "source": [
                "# plot the training accuracy and validation accuracy\n",
                "plt.plot(history.history['accuracy'])\n",
                "plt.plot(history.history['val_accuracy'])\n",
                "plt.legend(['train', 'val'], loc='upper left')"
            ]
        },
        {
            "attachments": {},
            "cell_type": "markdown",
            "metadata": {},
            "source": [
                "**2.2.3**"
            ]
        },
        {
            "cell_type": "code",
            "execution_count": null,
            "metadata": {},
            "outputs": [],
            "source": [
                "#your code here"
            ]
        },
        {
            "attachments": {},
            "cell_type": "markdown",
            "metadata": {},
            "source": [
                "**Error Analysis Inference:**\n",
                "\n",
                "*your answer here*"
            ]
        }
    ],
    "metadata": {
        "kernelspec": {
            "display_name": "Python 3.10.8 64-bit (microsoft store)",
            "language": "python",
            "name": "python3"
        },
        "language_info": {
            "codemirror_mode": {
                "name": "ipython",
                "version": 3
            },
            "file_extension": ".py",
            "mimetype": "text/x-python",
            "name": "python",
            "nbconvert_exporter": "python",
            "pygments_lexer": "ipython3",
            "version": "3.10.8"
        },
        "vscode": {
            "interpreter": {
                "hash": "e0acaf148705ed9ed86cc5cad12259d7985e30670e5686e5f55604a9b3b84a55"
            }
        }
    },
    "nbformat": 4,
    "nbformat_minor": 4
}
